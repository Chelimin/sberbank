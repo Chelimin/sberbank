{
 "cells": [
  {
   "cell_type": "code",
   "execution_count": 1,
   "metadata": {
    "collapsed": false
   },
   "outputs": [
    {
     "name": "stderr",
     "output_type": "stream",
     "text": [
      "/Users/chelimin/miniconda2/lib/python2.7/site-packages/IPython/html.py:14: ShimWarning: The `IPython.html` package has been deprecated since IPython 4.0. You should import from `notebook` instead. `IPython.html.widgets` has moved to `ipywidgets`.\n",
      "  \"`IPython.html.widgets` has moved to `ipywidgets`.\", ShimWarning)\n",
      "/Users/chelimin/miniconda2/lib/python2.7/site-packages/sklearn/cross_validation.py:44: DeprecationWarning: This module was deprecated in version 0.18 in favor of the model_selection module into which all the refactored classes and functions are moved. Also note that the interface of the new CV iterators are different from that of this module. This module will be removed in 0.20.\n",
      "  \"This module will be removed in 0.20.\", DeprecationWarning)\n"
     ]
    }
   ],
   "source": [
    "import numpy as np\n",
    "import pandas as pd\n",
    "\n",
    "import matplotlib.pyplot as plt\n",
    "import seaborn as sns\n",
    "%matplotlib inline\n",
    "\n",
    "from sklearn import model_selection, preprocessing\n",
    "import xgboost as xgb\n",
    "import datetime"
   ]
  },
  {
   "cell_type": "code",
   "execution_count": 2,
   "metadata": {
    "collapsed": false
   },
   "outputs": [],
   "source": [
    "train = pd.read_csv('input/train.csv')\n",
    "test = pd.read_csv('input/test.csv')\n",
    "macro = pd.read_csv('input/macro.csv')"
   ]
  },
  {
   "cell_type": "code",
   "execution_count": 3,
   "metadata": {
    "collapsed": false
   },
   "outputs": [
    {
     "data": {
      "text/plain": [
       "(30471, 292)"
      ]
     },
     "execution_count": 3,
     "metadata": {},
     "output_type": "execute_result"
    }
   ],
   "source": [
    "train.shape"
   ]
  },
  {
   "cell_type": "code",
   "execution_count": 6,
   "metadata": {
    "collapsed": false
   },
   "outputs": [
    {
     "data": {
      "text/plain": [
       "(2484, 100)"
      ]
     },
     "execution_count": 6,
     "metadata": {},
     "output_type": "execute_result"
    }
   ],
   "source": [
    "macro.shape"
   ]
  },
  {
   "cell_type": "code",
   "execution_count": 8,
   "metadata": {
    "collapsed": false
   },
   "outputs": [
    {
     "data": {
      "text/plain": [
       "(30471, 391)"
      ]
     },
     "execution_count": 8,
     "metadata": {},
     "output_type": "execute_result"
    }
   ],
   "source": [
    "train_df=pd.merge(macro, train)\n",
    "train_df.shape"
   ]
  },
  {
   "cell_type": "code",
   "execution_count": 9,
   "metadata": {
    "collapsed": false
   },
   "outputs": [
    {
     "data": {
      "text/html": [
       "<div>\n",
       "<table border=\"1\" class=\"dataframe\">\n",
       "  <thead>\n",
       "    <tr style=\"text-align: right;\">\n",
       "      <th></th>\n",
       "      <th>oil_urals</th>\n",
       "      <th>gdp_quart</th>\n",
       "      <th>gdp_quart_growth</th>\n",
       "      <th>cpi</th>\n",
       "      <th>ppi</th>\n",
       "      <th>gdp_deflator</th>\n",
       "      <th>balance_trade</th>\n",
       "      <th>balance_trade_growth</th>\n",
       "      <th>usdrub</th>\n",
       "      <th>eurrub</th>\n",
       "      <th>...</th>\n",
       "      <th>cafe_count_5000_price_2500</th>\n",
       "      <th>cafe_count_5000_price_4000</th>\n",
       "      <th>cafe_count_5000_price_high</th>\n",
       "      <th>big_church_count_5000</th>\n",
       "      <th>church_count_5000</th>\n",
       "      <th>mosque_count_5000</th>\n",
       "      <th>leisure_count_5000</th>\n",
       "      <th>sport_count_5000</th>\n",
       "      <th>market_count_5000</th>\n",
       "      <th>price_doc</th>\n",
       "    </tr>\n",
       "  </thead>\n",
       "  <tbody>\n",
       "    <tr>\n",
       "      <th>count</th>\n",
       "      <td>30471.000000</td>\n",
       "      <td>30471.000000</td>\n",
       "      <td>30471.000000</td>\n",
       "      <td>30471.000000</td>\n",
       "      <td>30471.000000</td>\n",
       "      <td>30471.000000</td>\n",
       "      <td>30471.000000</td>\n",
       "      <td>30471.000000</td>\n",
       "      <td>30471.000000</td>\n",
       "      <td>30471.000000</td>\n",
       "      <td>...</td>\n",
       "      <td>30471.000000</td>\n",
       "      <td>30471.000000</td>\n",
       "      <td>30471.000000</td>\n",
       "      <td>30471.000000</td>\n",
       "      <td>30471.000000</td>\n",
       "      <td>30471.000000</td>\n",
       "      <td>30471.000000</td>\n",
       "      <td>30471.000000</td>\n",
       "      <td>30471.000000</td>\n",
       "      <td>3.047100e+04</td>\n",
       "    </tr>\n",
       "    <tr>\n",
       "      <th>mean</th>\n",
       "      <td>97.704786</td>\n",
       "      <td>18216.990660</td>\n",
       "      <td>1.444098</td>\n",
       "      <td>411.660490</td>\n",
       "      <td>492.213019</td>\n",
       "      <td>110.397005</td>\n",
       "      <td>17.488725</td>\n",
       "      <td>22.612130</td>\n",
       "      <td>38.029219</td>\n",
       "      <td>48.759814</td>\n",
       "      <td>...</td>\n",
       "      <td>32.058318</td>\n",
       "      <td>10.783860</td>\n",
       "      <td>1.771783</td>\n",
       "      <td>15.045552</td>\n",
       "      <td>30.251518</td>\n",
       "      <td>0.442421</td>\n",
       "      <td>8.648814</td>\n",
       "      <td>52.796593</td>\n",
       "      <td>5.987070</td>\n",
       "      <td>7.123035e+06</td>\n",
       "    </tr>\n",
       "    <tr>\n",
       "      <th>std</th>\n",
       "      <td>18.996897</td>\n",
       "      <td>1668.958493</td>\n",
       "      <td>1.702220</td>\n",
       "      <td>32.436292</td>\n",
       "      <td>28.597338</td>\n",
       "      <td>7.422593</td>\n",
       "      <td>2.426106</td>\n",
       "      <td>18.372021</td>\n",
       "      <td>9.553469</td>\n",
       "      <td>9.412958</td>\n",
       "      <td>...</td>\n",
       "      <td>73.465611</td>\n",
       "      <td>28.385679</td>\n",
       "      <td>5.418807</td>\n",
       "      <td>29.118668</td>\n",
       "      <td>47.347938</td>\n",
       "      <td>0.609269</td>\n",
       "      <td>20.580741</td>\n",
       "      <td>46.292660</td>\n",
       "      <td>4.889219</td>\n",
       "      <td>4.780111e+06</td>\n",
       "    </tr>\n",
       "    <tr>\n",
       "      <th>min</th>\n",
       "      <td>46.341400</td>\n",
       "      <td>14313.700000</td>\n",
       "      <td>-2.800000</td>\n",
       "      <td>353.000000</td>\n",
       "      <td>420.700000</td>\n",
       "      <td>86.721000</td>\n",
       "      <td>12.785000</td>\n",
       "      <td>4.600000</td>\n",
       "      <td>28.808200</td>\n",
       "      <td>38.433700</td>\n",
       "      <td>...</td>\n",
       "      <td>0.000000</td>\n",
       "      <td>0.000000</td>\n",
       "      <td>0.000000</td>\n",
       "      <td>0.000000</td>\n",
       "      <td>0.000000</td>\n",
       "      <td>0.000000</td>\n",
       "      <td>0.000000</td>\n",
       "      <td>0.000000</td>\n",
       "      <td>0.000000</td>\n",
       "      <td>1.000000e+05</td>\n",
       "    </tr>\n",
       "    <tr>\n",
       "      <th>25%</th>\n",
       "      <td>93.740000</td>\n",
       "      <td>17015.100000</td>\n",
       "      <td>0.700000</td>\n",
       "      <td>388.500000</td>\n",
       "      <td>472.200000</td>\n",
       "      <td>108.299000</td>\n",
       "      <td>15.748000</td>\n",
       "      <td>7.600000</td>\n",
       "      <td>31.926700</td>\n",
       "      <td>41.593100</td>\n",
       "      <td>...</td>\n",
       "      <td>2.000000</td>\n",
       "      <td>1.000000</td>\n",
       "      <td>0.000000</td>\n",
       "      <td>2.000000</td>\n",
       "      <td>9.000000</td>\n",
       "      <td>0.000000</td>\n",
       "      <td>0.000000</td>\n",
       "      <td>11.000000</td>\n",
       "      <td>1.000000</td>\n",
       "      <td>4.740002e+06</td>\n",
       "    </tr>\n",
       "    <tr>\n",
       "      <th>50%</th>\n",
       "      <td>107.199100</td>\n",
       "      <td>18410.700000</td>\n",
       "      <td>0.900000</td>\n",
       "      <td>408.300000</td>\n",
       "      <td>487.900000</td>\n",
       "      <td>113.465000</td>\n",
       "      <td>16.954000</td>\n",
       "      <td>16.800000</td>\n",
       "      <td>34.376800</td>\n",
       "      <td>46.821000</td>\n",
       "      <td>...</td>\n",
       "      <td>8.000000</td>\n",
       "      <td>2.000000</td>\n",
       "      <td>0.000000</td>\n",
       "      <td>7.000000</td>\n",
       "      <td>16.000000</td>\n",
       "      <td>0.000000</td>\n",
       "      <td>2.000000</td>\n",
       "      <td>48.000000</td>\n",
       "      <td>5.000000</td>\n",
       "      <td>6.274411e+06</td>\n",
       "    </tr>\n",
       "    <tr>\n",
       "      <th>75%</th>\n",
       "      <td>108.650000</td>\n",
       "      <td>19566.500000</td>\n",
       "      <td>2.100000</td>\n",
       "      <td>428.600000</td>\n",
       "      <td>510.100000</td>\n",
       "      <td>113.465000</td>\n",
       "      <td>19.639000</td>\n",
       "      <td>32.900000</td>\n",
       "      <td>38.590700</td>\n",
       "      <td>50.220000</td>\n",
       "      <td>...</td>\n",
       "      <td>21.000000</td>\n",
       "      <td>5.000000</td>\n",
       "      <td>1.000000</td>\n",
       "      <td>12.000000</td>\n",
       "      <td>28.000000</td>\n",
       "      <td>1.000000</td>\n",
       "      <td>7.000000</td>\n",
       "      <td>76.000000</td>\n",
       "      <td>10.000000</td>\n",
       "      <td>8.300000e+06</td>\n",
       "    </tr>\n",
       "    <tr>\n",
       "      <th>max</th>\n",
       "      <td>122.520000</td>\n",
       "      <td>21514.700000</td>\n",
       "      <td>5.200000</td>\n",
       "      <td>489.500000</td>\n",
       "      <td>575.900000</td>\n",
       "      <td>123.661000</td>\n",
       "      <td>21.939000</td>\n",
       "      <td>75.800000</td>\n",
       "      <td>69.466600</td>\n",
       "      <td>84.960500</td>\n",
       "      <td>...</td>\n",
       "      <td>377.000000</td>\n",
       "      <td>147.000000</td>\n",
       "      <td>30.000000</td>\n",
       "      <td>151.000000</td>\n",
       "      <td>250.000000</td>\n",
       "      <td>2.000000</td>\n",
       "      <td>106.000000</td>\n",
       "      <td>218.000000</td>\n",
       "      <td>21.000000</td>\n",
       "      <td>1.111111e+08</td>\n",
       "    </tr>\n",
       "  </tbody>\n",
       "</table>\n",
       "<p>8 rows × 372 columns</p>\n",
       "</div>"
      ],
      "text/plain": [
       "          oil_urals     gdp_quart  gdp_quart_growth           cpi  \\\n",
       "count  30471.000000  30471.000000      30471.000000  30471.000000   \n",
       "mean      97.704786  18216.990660          1.444098    411.660490   \n",
       "std       18.996897   1668.958493          1.702220     32.436292   \n",
       "min       46.341400  14313.700000         -2.800000    353.000000   \n",
       "25%       93.740000  17015.100000          0.700000    388.500000   \n",
       "50%      107.199100  18410.700000          0.900000    408.300000   \n",
       "75%      108.650000  19566.500000          2.100000    428.600000   \n",
       "max      122.520000  21514.700000          5.200000    489.500000   \n",
       "\n",
       "                ppi  gdp_deflator  balance_trade  balance_trade_growth  \\\n",
       "count  30471.000000  30471.000000   30471.000000          30471.000000   \n",
       "mean     492.213019    110.397005      17.488725             22.612130   \n",
       "std       28.597338      7.422593       2.426106             18.372021   \n",
       "min      420.700000     86.721000      12.785000              4.600000   \n",
       "25%      472.200000    108.299000      15.748000              7.600000   \n",
       "50%      487.900000    113.465000      16.954000             16.800000   \n",
       "75%      510.100000    113.465000      19.639000             32.900000   \n",
       "max      575.900000    123.661000      21.939000             75.800000   \n",
       "\n",
       "             usdrub        eurrub      ...       cafe_count_5000_price_2500  \\\n",
       "count  30471.000000  30471.000000      ...                     30471.000000   \n",
       "mean      38.029219     48.759814      ...                        32.058318   \n",
       "std        9.553469      9.412958      ...                        73.465611   \n",
       "min       28.808200     38.433700      ...                         0.000000   \n",
       "25%       31.926700     41.593100      ...                         2.000000   \n",
       "50%       34.376800     46.821000      ...                         8.000000   \n",
       "75%       38.590700     50.220000      ...                        21.000000   \n",
       "max       69.466600     84.960500      ...                       377.000000   \n",
       "\n",
       "       cafe_count_5000_price_4000  cafe_count_5000_price_high  \\\n",
       "count                30471.000000                30471.000000   \n",
       "mean                    10.783860                    1.771783   \n",
       "std                     28.385679                    5.418807   \n",
       "min                      0.000000                    0.000000   \n",
       "25%                      1.000000                    0.000000   \n",
       "50%                      2.000000                    0.000000   \n",
       "75%                      5.000000                    1.000000   \n",
       "max                    147.000000                   30.000000   \n",
       "\n",
       "       big_church_count_5000  church_count_5000  mosque_count_5000  \\\n",
       "count           30471.000000       30471.000000       30471.000000   \n",
       "mean               15.045552          30.251518           0.442421   \n",
       "std                29.118668          47.347938           0.609269   \n",
       "min                 0.000000           0.000000           0.000000   \n",
       "25%                 2.000000           9.000000           0.000000   \n",
       "50%                 7.000000          16.000000           0.000000   \n",
       "75%                12.000000          28.000000           1.000000   \n",
       "max               151.000000         250.000000           2.000000   \n",
       "\n",
       "       leisure_count_5000  sport_count_5000  market_count_5000     price_doc  \n",
       "count        30471.000000      30471.000000       30471.000000  3.047100e+04  \n",
       "mean             8.648814         52.796593           5.987070  7.123035e+06  \n",
       "std             20.580741         46.292660           4.889219  4.780111e+06  \n",
       "min              0.000000          0.000000           0.000000  1.000000e+05  \n",
       "25%              0.000000         11.000000           1.000000  4.740002e+06  \n",
       "50%              2.000000         48.000000           5.000000  6.274411e+06  \n",
       "75%              7.000000         76.000000          10.000000  8.300000e+06  \n",
       "max            106.000000        218.000000          21.000000  1.111111e+08  \n",
       "\n",
       "[8 rows x 372 columns]"
      ]
     },
     "execution_count": 9,
     "metadata": {},
     "output_type": "execute_result"
    }
   ],
   "source": [
    "train_df.describe()"
   ]
  },
  {
   "cell_type": "code",
   "execution_count": 11,
   "metadata": {
    "collapsed": false
   },
   "outputs": [
    {
     "data": {
      "text/plain": [
       "['timestamp',\n",
       " 'oil_urals',\n",
       " 'gdp_quart',\n",
       " 'gdp_quart_growth',\n",
       " 'cpi',\n",
       " 'ppi',\n",
       " 'gdp_deflator',\n",
       " 'balance_trade',\n",
       " 'balance_trade_growth',\n",
       " 'usdrub',\n",
       " 'eurrub',\n",
       " 'brent',\n",
       " 'net_capital_export',\n",
       " 'gdp_annual',\n",
       " 'gdp_annual_growth',\n",
       " 'average_provision_of_build_contract',\n",
       " 'average_provision_of_build_contract_moscow',\n",
       " 'rts',\n",
       " 'micex',\n",
       " 'micex_rgbi_tr',\n",
       " 'micex_cbi_tr',\n",
       " 'deposits_value',\n",
       " 'deposits_growth',\n",
       " 'deposits_rate',\n",
       " 'mortgage_value',\n",
       " 'mortgage_growth',\n",
       " 'mortgage_rate',\n",
       " 'grp',\n",
       " 'grp_growth',\n",
       " 'income_per_cap',\n",
       " 'real_dispos_income_per_cap_growth',\n",
       " 'salary',\n",
       " 'salary_growth',\n",
       " 'fixed_basket',\n",
       " 'retail_trade_turnover',\n",
       " 'retail_trade_turnover_per_cap',\n",
       " 'retail_trade_turnover_growth',\n",
       " 'labor_force',\n",
       " 'unemployment',\n",
       " 'employment',\n",
       " 'invest_fixed_capital_per_cap',\n",
       " 'invest_fixed_assets',\n",
       " 'profitable_enterpr_share',\n",
       " 'unprofitable_enterpr_share',\n",
       " 'share_own_revenues',\n",
       " 'overdue_wages_per_cap',\n",
       " 'fin_res_per_cap',\n",
       " 'marriages_per_1000_cap',\n",
       " 'divorce_rate',\n",
       " 'construction_value',\n",
       " 'invest_fixed_assets_phys',\n",
       " 'pop_natural_increase',\n",
       " 'pop_migration',\n",
       " 'pop_total_inc',\n",
       " 'childbirth',\n",
       " 'mortality',\n",
       " 'housing_fund_sqm',\n",
       " 'lodging_sqm_per_cap',\n",
       " 'water_pipes_share',\n",
       " 'baths_share',\n",
       " 'sewerage_share',\n",
       " 'gas_share',\n",
       " 'hot_water_share',\n",
       " 'electric_stove_share',\n",
       " 'heating_share',\n",
       " 'old_house_share',\n",
       " 'average_life_exp',\n",
       " 'infant_mortarity_per_1000_cap',\n",
       " 'perinatal_mort_per_1000_cap',\n",
       " 'incidence_population',\n",
       " 'rent_price_4+room_bus',\n",
       " 'rent_price_3room_bus',\n",
       " 'rent_price_2room_bus',\n",
       " 'rent_price_1room_bus',\n",
       " 'rent_price_3room_eco',\n",
       " 'rent_price_2room_eco',\n",
       " 'rent_price_1room_eco',\n",
       " 'load_of_teachers_preschool_per_teacher',\n",
       " 'child_on_acc_pre_school',\n",
       " 'load_of_teachers_school_per_teacher',\n",
       " 'students_state_oneshift',\n",
       " 'modern_education_share',\n",
       " 'old_education_build_share',\n",
       " 'provision_doctors',\n",
       " 'provision_nurse',\n",
       " 'load_on_doctors',\n",
       " 'power_clinics',\n",
       " 'hospital_beds_available_per_cap',\n",
       " 'hospital_bed_occupancy_per_year',\n",
       " 'provision_retail_space_sqm',\n",
       " 'provision_retail_space_modern_sqm',\n",
       " 'turnover_catering_per_cap',\n",
       " 'theaters_viewers_per_1000_cap',\n",
       " 'seats_theather_rfmin_per_100000_cap',\n",
       " 'museum_visitis_per_100_cap',\n",
       " 'bandwidth_sports',\n",
       " 'population_reg_sports_share',\n",
       " 'students_reg_sports_share',\n",
       " 'apartment_build',\n",
       " 'apartment_fund_sqm',\n",
       " 'id',\n",
       " 'full_sq',\n",
       " 'life_sq',\n",
       " 'floor',\n",
       " 'max_floor',\n",
       " 'material',\n",
       " 'build_year',\n",
       " 'num_room',\n",
       " 'kitch_sq',\n",
       " 'state',\n",
       " 'product_type',\n",
       " 'sub_area',\n",
       " 'area_m',\n",
       " 'raion_popul',\n",
       " 'green_zone_part',\n",
       " 'indust_part',\n",
       " 'children_preschool',\n",
       " 'preschool_quota',\n",
       " 'preschool_education_centers_raion',\n",
       " 'children_school',\n",
       " 'school_quota',\n",
       " 'school_education_centers_raion',\n",
       " 'school_education_centers_top_20_raion',\n",
       " 'hospital_beds_raion',\n",
       " 'healthcare_centers_raion',\n",
       " 'university_top_20_raion',\n",
       " 'sport_objects_raion',\n",
       " 'additional_education_raion',\n",
       " 'culture_objects_top_25',\n",
       " 'culture_objects_top_25_raion',\n",
       " 'shopping_centers_raion',\n",
       " 'office_raion',\n",
       " 'thermal_power_plant_raion',\n",
       " 'incineration_raion',\n",
       " 'oil_chemistry_raion',\n",
       " 'radiation_raion',\n",
       " 'railroad_terminal_raion',\n",
       " 'big_market_raion',\n",
       " 'nuclear_reactor_raion',\n",
       " 'detention_facility_raion',\n",
       " 'full_all',\n",
       " 'male_f',\n",
       " 'female_f',\n",
       " 'young_all',\n",
       " 'young_male',\n",
       " 'young_female',\n",
       " 'work_all',\n",
       " 'work_male',\n",
       " 'work_female',\n",
       " 'ekder_all',\n",
       " 'ekder_male',\n",
       " 'ekder_female',\n",
       " '0_6_all',\n",
       " '0_6_male',\n",
       " '0_6_female',\n",
       " '7_14_all',\n",
       " '7_14_male',\n",
       " '7_14_female',\n",
       " '0_17_all',\n",
       " '0_17_male',\n",
       " '0_17_female',\n",
       " '16_29_all',\n",
       " '16_29_male',\n",
       " '16_29_female',\n",
       " '0_13_all',\n",
       " '0_13_male',\n",
       " '0_13_female',\n",
       " 'raion_build_count_with_material_info',\n",
       " 'build_count_block',\n",
       " 'build_count_wood',\n",
       " 'build_count_frame',\n",
       " 'build_count_brick',\n",
       " 'build_count_monolith',\n",
       " 'build_count_panel',\n",
       " 'build_count_foam',\n",
       " 'build_count_slag',\n",
       " 'build_count_mix',\n",
       " 'raion_build_count_with_builddate_info',\n",
       " 'build_count_before_1920',\n",
       " 'build_count_1921-1945',\n",
       " 'build_count_1946-1970',\n",
       " 'build_count_1971-1995',\n",
       " 'build_count_after_1995',\n",
       " 'ID_metro',\n",
       " 'metro_min_avto',\n",
       " 'metro_km_avto',\n",
       " 'metro_min_walk',\n",
       " 'metro_km_walk',\n",
       " 'kindergarten_km',\n",
       " 'school_km',\n",
       " 'park_km',\n",
       " 'green_zone_km',\n",
       " 'industrial_km',\n",
       " 'water_treatment_km',\n",
       " 'cemetery_km',\n",
       " 'incineration_km',\n",
       " 'railroad_station_walk_km',\n",
       " 'railroad_station_walk_min',\n",
       " 'ID_railroad_station_walk',\n",
       " 'railroad_station_avto_km',\n",
       " 'railroad_station_avto_min',\n",
       " 'ID_railroad_station_avto',\n",
       " 'public_transport_station_km',\n",
       " 'public_transport_station_min_walk',\n",
       " 'water_km',\n",
       " 'water_1line',\n",
       " 'mkad_km',\n",
       " 'ttk_km',\n",
       " 'sadovoe_km',\n",
       " 'bulvar_ring_km',\n",
       " 'kremlin_km',\n",
       " 'big_road1_km',\n",
       " 'ID_big_road1',\n",
       " 'big_road1_1line',\n",
       " 'big_road2_km',\n",
       " 'ID_big_road2',\n",
       " 'railroad_km',\n",
       " 'railroad_1line',\n",
       " 'zd_vokzaly_avto_km',\n",
       " 'ID_railroad_terminal',\n",
       " 'bus_terminal_avto_km',\n",
       " 'ID_bus_terminal',\n",
       " 'oil_chemistry_km',\n",
       " 'nuclear_reactor_km',\n",
       " 'radiation_km',\n",
       " 'power_transmission_line_km',\n",
       " 'thermal_power_plant_km',\n",
       " 'ts_km',\n",
       " 'big_market_km',\n",
       " 'market_shop_km',\n",
       " 'fitness_km',\n",
       " 'swim_pool_km',\n",
       " 'ice_rink_km',\n",
       " 'stadium_km',\n",
       " 'basketball_km',\n",
       " 'hospice_morgue_km',\n",
       " 'detention_facility_km',\n",
       " 'public_healthcare_km',\n",
       " 'university_km',\n",
       " 'workplaces_km',\n",
       " 'shopping_centers_km',\n",
       " 'office_km',\n",
       " 'additional_education_km',\n",
       " 'preschool_km',\n",
       " 'big_church_km',\n",
       " 'church_synagogue_km',\n",
       " 'mosque_km',\n",
       " 'theater_km',\n",
       " 'museum_km',\n",
       " 'exhibition_km',\n",
       " 'catering_km',\n",
       " 'ecology',\n",
       " 'green_part_500',\n",
       " 'prom_part_500',\n",
       " 'office_count_500',\n",
       " 'office_sqm_500',\n",
       " 'trc_count_500',\n",
       " 'trc_sqm_500',\n",
       " 'cafe_count_500',\n",
       " 'cafe_sum_500_min_price_avg',\n",
       " 'cafe_sum_500_max_price_avg',\n",
       " 'cafe_avg_price_500',\n",
       " 'cafe_count_500_na_price',\n",
       " 'cafe_count_500_price_500',\n",
       " 'cafe_count_500_price_1000',\n",
       " 'cafe_count_500_price_1500',\n",
       " 'cafe_count_500_price_2500',\n",
       " 'cafe_count_500_price_4000',\n",
       " 'cafe_count_500_price_high',\n",
       " 'big_church_count_500',\n",
       " 'church_count_500',\n",
       " 'mosque_count_500',\n",
       " 'leisure_count_500',\n",
       " 'sport_count_500',\n",
       " 'market_count_500',\n",
       " 'green_part_1000',\n",
       " 'prom_part_1000',\n",
       " 'office_count_1000',\n",
       " 'office_sqm_1000',\n",
       " 'trc_count_1000',\n",
       " 'trc_sqm_1000',\n",
       " 'cafe_count_1000',\n",
       " 'cafe_sum_1000_min_price_avg',\n",
       " 'cafe_sum_1000_max_price_avg',\n",
       " 'cafe_avg_price_1000',\n",
       " 'cafe_count_1000_na_price',\n",
       " 'cafe_count_1000_price_500',\n",
       " 'cafe_count_1000_price_1000',\n",
       " 'cafe_count_1000_price_1500',\n",
       " 'cafe_count_1000_price_2500',\n",
       " 'cafe_count_1000_price_4000',\n",
       " 'cafe_count_1000_price_high',\n",
       " 'big_church_count_1000',\n",
       " 'church_count_1000',\n",
       " 'mosque_count_1000',\n",
       " 'leisure_count_1000',\n",
       " 'sport_count_1000',\n",
       " 'market_count_1000',\n",
       " 'green_part_1500',\n",
       " 'prom_part_1500',\n",
       " 'office_count_1500',\n",
       " 'office_sqm_1500',\n",
       " 'trc_count_1500',\n",
       " 'trc_sqm_1500',\n",
       " 'cafe_count_1500',\n",
       " 'cafe_sum_1500_min_price_avg',\n",
       " 'cafe_sum_1500_max_price_avg',\n",
       " 'cafe_avg_price_1500',\n",
       " 'cafe_count_1500_na_price',\n",
       " 'cafe_count_1500_price_500',\n",
       " 'cafe_count_1500_price_1000',\n",
       " 'cafe_count_1500_price_1500',\n",
       " 'cafe_count_1500_price_2500',\n",
       " 'cafe_count_1500_price_4000',\n",
       " 'cafe_count_1500_price_high',\n",
       " 'big_church_count_1500',\n",
       " 'church_count_1500',\n",
       " 'mosque_count_1500',\n",
       " 'leisure_count_1500',\n",
       " 'sport_count_1500',\n",
       " 'market_count_1500',\n",
       " 'green_part_2000',\n",
       " 'prom_part_2000',\n",
       " 'office_count_2000',\n",
       " 'office_sqm_2000',\n",
       " 'trc_count_2000',\n",
       " 'trc_sqm_2000',\n",
       " 'cafe_count_2000',\n",
       " 'cafe_sum_2000_min_price_avg',\n",
       " 'cafe_sum_2000_max_price_avg',\n",
       " 'cafe_avg_price_2000',\n",
       " 'cafe_count_2000_na_price',\n",
       " 'cafe_count_2000_price_500',\n",
       " 'cafe_count_2000_price_1000',\n",
       " 'cafe_count_2000_price_1500',\n",
       " 'cafe_count_2000_price_2500',\n",
       " 'cafe_count_2000_price_4000',\n",
       " 'cafe_count_2000_price_high',\n",
       " 'big_church_count_2000',\n",
       " 'church_count_2000',\n",
       " 'mosque_count_2000',\n",
       " 'leisure_count_2000',\n",
       " 'sport_count_2000',\n",
       " 'market_count_2000',\n",
       " 'green_part_3000',\n",
       " 'prom_part_3000',\n",
       " 'office_count_3000',\n",
       " 'office_sqm_3000',\n",
       " 'trc_count_3000',\n",
       " 'trc_sqm_3000',\n",
       " 'cafe_count_3000',\n",
       " 'cafe_sum_3000_min_price_avg',\n",
       " 'cafe_sum_3000_max_price_avg',\n",
       " 'cafe_avg_price_3000',\n",
       " 'cafe_count_3000_na_price',\n",
       " 'cafe_count_3000_price_500',\n",
       " 'cafe_count_3000_price_1000',\n",
       " 'cafe_count_3000_price_1500',\n",
       " 'cafe_count_3000_price_2500',\n",
       " 'cafe_count_3000_price_4000',\n",
       " 'cafe_count_3000_price_high',\n",
       " 'big_church_count_3000',\n",
       " 'church_count_3000',\n",
       " 'mosque_count_3000',\n",
       " 'leisure_count_3000',\n",
       " 'sport_count_3000',\n",
       " 'market_count_3000',\n",
       " 'green_part_5000',\n",
       " 'prom_part_5000',\n",
       " 'office_count_5000',\n",
       " 'office_sqm_5000',\n",
       " 'trc_count_5000',\n",
       " 'trc_sqm_5000',\n",
       " 'cafe_count_5000',\n",
       " 'cafe_sum_5000_min_price_avg',\n",
       " 'cafe_sum_5000_max_price_avg',\n",
       " 'cafe_avg_price_5000',\n",
       " 'cafe_count_5000_na_price',\n",
       " 'cafe_count_5000_price_500',\n",
       " 'cafe_count_5000_price_1000',\n",
       " 'cafe_count_5000_price_1500',\n",
       " 'cafe_count_5000_price_2500',\n",
       " 'cafe_count_5000_price_4000',\n",
       " 'cafe_count_5000_price_high',\n",
       " 'big_church_count_5000',\n",
       " 'church_count_5000',\n",
       " 'mosque_count_5000',\n",
       " 'leisure_count_5000',\n",
       " 'sport_count_5000',\n",
       " 'market_count_5000',\n",
       " 'price_doc']"
      ]
     },
     "execution_count": 11,
     "metadata": {},
     "output_type": "execute_result"
    }
   ],
   "source": [
    "list (train_df)"
   ]
  },
  {
   "cell_type": "code",
   "execution_count": 4,
   "metadata": {
    "collapsed": false
   },
   "outputs": [
    {
     "data": {
      "text/html": [
       "<div>\n",
       "<table border=\"1\" class=\"dataframe\">\n",
       "  <thead>\n",
       "    <tr style=\"text-align: right;\">\n",
       "      <th></th>\n",
       "      <th>timestamp</th>\n",
       "      <th>oil_urals</th>\n",
       "      <th>gdp_quart</th>\n",
       "      <th>gdp_quart_growth</th>\n",
       "      <th>cpi</th>\n",
       "      <th>ppi</th>\n",
       "      <th>gdp_deflator</th>\n",
       "      <th>balance_trade</th>\n",
       "      <th>balance_trade_growth</th>\n",
       "      <th>usdrub</th>\n",
       "      <th>...</th>\n",
       "      <th>cafe_count_5000_price_2500</th>\n",
       "      <th>cafe_count_5000_price_4000</th>\n",
       "      <th>cafe_count_5000_price_high</th>\n",
       "      <th>big_church_count_5000</th>\n",
       "      <th>church_count_5000</th>\n",
       "      <th>mosque_count_5000</th>\n",
       "      <th>leisure_count_5000</th>\n",
       "      <th>sport_count_5000</th>\n",
       "      <th>market_count_5000</th>\n",
       "      <th>price_doc</th>\n",
       "    </tr>\n",
       "  </thead>\n",
       "  <tbody>\n",
       "    <tr>\n",
       "      <th>0</th>\n",
       "      <td>2011-08-20</td>\n",
       "      <td>109.31</td>\n",
       "      <td>14313.7</td>\n",
       "      <td>3.3</td>\n",
       "      <td>354.0</td>\n",
       "      <td>420.7</td>\n",
       "      <td>86.721</td>\n",
       "      <td>15.459</td>\n",
       "      <td>10.1</td>\n",
       "      <td>29.0048</td>\n",
       "      <td>...</td>\n",
       "      <td>9</td>\n",
       "      <td>4</td>\n",
       "      <td>0</td>\n",
       "      <td>13</td>\n",
       "      <td>22</td>\n",
       "      <td>1</td>\n",
       "      <td>0</td>\n",
       "      <td>52</td>\n",
       "      <td>4</td>\n",
       "      <td>5850000</td>\n",
       "    </tr>\n",
       "    <tr>\n",
       "      <th>1</th>\n",
       "      <td>2011-08-23</td>\n",
       "      <td>109.31</td>\n",
       "      <td>14313.7</td>\n",
       "      <td>3.3</td>\n",
       "      <td>354.0</td>\n",
       "      <td>420.7</td>\n",
       "      <td>86.721</td>\n",
       "      <td>15.459</td>\n",
       "      <td>10.1</td>\n",
       "      <td>28.9525</td>\n",
       "      <td>...</td>\n",
       "      <td>15</td>\n",
       "      <td>3</td>\n",
       "      <td>0</td>\n",
       "      <td>15</td>\n",
       "      <td>29</td>\n",
       "      <td>1</td>\n",
       "      <td>10</td>\n",
       "      <td>66</td>\n",
       "      <td>14</td>\n",
       "      <td>6000000</td>\n",
       "    </tr>\n",
       "    <tr>\n",
       "      <th>2</th>\n",
       "      <td>2011-08-27</td>\n",
       "      <td>109.31</td>\n",
       "      <td>14313.7</td>\n",
       "      <td>3.3</td>\n",
       "      <td>354.0</td>\n",
       "      <td>420.7</td>\n",
       "      <td>86.721</td>\n",
       "      <td>15.459</td>\n",
       "      <td>10.1</td>\n",
       "      <td>28.8082</td>\n",
       "      <td>...</td>\n",
       "      <td>10</td>\n",
       "      <td>3</td>\n",
       "      <td>0</td>\n",
       "      <td>11</td>\n",
       "      <td>27</td>\n",
       "      <td>0</td>\n",
       "      <td>4</td>\n",
       "      <td>67</td>\n",
       "      <td>10</td>\n",
       "      <td>5700000</td>\n",
       "    </tr>\n",
       "    <tr>\n",
       "      <th>3</th>\n",
       "      <td>2011-09-01</td>\n",
       "      <td>111.29</td>\n",
       "      <td>14313.7</td>\n",
       "      <td>3.3</td>\n",
       "      <td>353.2</td>\n",
       "      <td>434.4</td>\n",
       "      <td>86.721</td>\n",
       "      <td>15.386</td>\n",
       "      <td>10.1</td>\n",
       "      <td>28.9655</td>\n",
       "      <td>...</td>\n",
       "      <td>11</td>\n",
       "      <td>2</td>\n",
       "      <td>1</td>\n",
       "      <td>4</td>\n",
       "      <td>4</td>\n",
       "      <td>0</td>\n",
       "      <td>0</td>\n",
       "      <td>26</td>\n",
       "      <td>3</td>\n",
       "      <td>13100000</td>\n",
       "    </tr>\n",
       "    <tr>\n",
       "      <th>4</th>\n",
       "      <td>2011-09-05</td>\n",
       "      <td>111.29</td>\n",
       "      <td>14313.7</td>\n",
       "      <td>3.3</td>\n",
       "      <td>353.2</td>\n",
       "      <td>434.4</td>\n",
       "      <td>86.721</td>\n",
       "      <td>15.386</td>\n",
       "      <td>10.1</td>\n",
       "      <td>29.4625</td>\n",
       "      <td>...</td>\n",
       "      <td>319</td>\n",
       "      <td>108</td>\n",
       "      <td>17</td>\n",
       "      <td>135</td>\n",
       "      <td>236</td>\n",
       "      <td>2</td>\n",
       "      <td>91</td>\n",
       "      <td>195</td>\n",
       "      <td>14</td>\n",
       "      <td>16331452</td>\n",
       "    </tr>\n",
       "  </tbody>\n",
       "</table>\n",
       "<p>5 rows × 391 columns</p>\n",
       "</div>"
      ],
      "text/plain": [
       "    timestamp  oil_urals  gdp_quart  gdp_quart_growth    cpi    ppi  \\\n",
       "0  2011-08-20     109.31    14313.7               3.3  354.0  420.7   \n",
       "1  2011-08-23     109.31    14313.7               3.3  354.0  420.7   \n",
       "2  2011-08-27     109.31    14313.7               3.3  354.0  420.7   \n",
       "3  2011-09-01     111.29    14313.7               3.3  353.2  434.4   \n",
       "4  2011-09-05     111.29    14313.7               3.3  353.2  434.4   \n",
       "\n",
       "   gdp_deflator  balance_trade  balance_trade_growth   usdrub    ...      \\\n",
       "0        86.721         15.459                  10.1  29.0048    ...       \n",
       "1        86.721         15.459                  10.1  28.9525    ...       \n",
       "2        86.721         15.459                  10.1  28.8082    ...       \n",
       "3        86.721         15.386                  10.1  28.9655    ...       \n",
       "4        86.721         15.386                  10.1  29.4625    ...       \n",
       "\n",
       "   cafe_count_5000_price_2500  cafe_count_5000_price_4000  \\\n",
       "0                           9                           4   \n",
       "1                          15                           3   \n",
       "2                          10                           3   \n",
       "3                          11                           2   \n",
       "4                         319                         108   \n",
       "\n",
       "   cafe_count_5000_price_high  big_church_count_5000  church_count_5000  \\\n",
       "0                           0                     13                 22   \n",
       "1                           0                     15                 29   \n",
       "2                           0                     11                 27   \n",
       "3                           1                      4                  4   \n",
       "4                          17                    135                236   \n",
       "\n",
       "   mosque_count_5000  leisure_count_5000  sport_count_5000  market_count_5000  \\\n",
       "0                  1                   0                52                  4   \n",
       "1                  1                  10                66                 14   \n",
       "2                  0                   4                67                 10   \n",
       "3                  0                   0                26                  3   \n",
       "4                  2                  91               195                 14   \n",
       "\n",
       "   price_doc  \n",
       "0    5850000  \n",
       "1    6000000  \n",
       "2    5700000  \n",
       "3   13100000  \n",
       "4   16331452  \n",
       "\n",
       "[5 rows x 391 columns]"
      ]
     },
     "execution_count": 4,
     "metadata": {},
     "output_type": "execute_result"
    }
   ],
   "source": [
    "train_df.head()"
   ]
  },
  {
   "cell_type": "code",
   "execution_count": 5,
   "metadata": {
    "collapsed": false
   },
   "outputs": [
    {
     "data": {
      "text/plain": [
       "(7662, 390)"
      ]
     },
     "execution_count": 5,
     "metadata": {},
     "output_type": "execute_result"
    }
   ],
   "source": [
    "test_df=pd.merge(macro, test)\n",
    "test_df.shape"
   ]
  },
  {
   "cell_type": "markdown",
   "metadata": {},
   "source": [
    "### Data preprocessing"
   ]
  },
  {
   "cell_type": "code",
   "execution_count": 6,
   "metadata": {
    "collapsed": false
   },
   "outputs": [
    {
     "data": {
      "image/png": "[encoded data removed]",
      "text/plain": [
       "<matplotlib.figure.Figure at 0x106fba390>"
      ]
     },
     "metadata": {},
     "output_type": "display_data"
    }
   ],
   "source": [
    "#missing values in train_df\n",
    "\n",
    "missing = train_df.isnull().sum(0).reset_index()\n",
    "missing.columns = ['column', 'count']\n",
    "missing = missing.sort_values(by = 'count', ascending = False).loc[missing['count'] > 0]\n",
    "missing['percentage'] = missing['count'] / float(train_df.shape[0]) * 100\n",
    "ind = np.arange(missing.shape[0])\n",
    "width = 0.9\n",
    "fig, ax = plt.subplots(figsize=(10,18))\n",
    "rects = ax.barh(ind, missing.percentage.values, color='r')\n",
    "ax.set_yticks(ind)\n",
    "ax.set_yticklabels(missing.column.values, rotation='horizontal')\n",
    "ax.set_xlabel(\"Precentage of missing values %\", fontsize = 14)\n",
    "ax.set_title(\"Number of missing values in each column\", fontsize = 18)\n",
    "plt.show()"
   ]
  },
  {
   "cell_type": "code",
   "execution_count": 7,
   "metadata": {
    "collapsed": true
   },
   "outputs": [],
   "source": [
    "#drop features with more than 30% missing values from train and test\n",
    "\n",
    "delete_col = missing.loc[missing['percentage'] >= 30].column.values\n",
    "train_set = train_df.drop(delete_col, axis=1)\n",
    "test_set = test_df.drop(delete_col, axis=1)"
   ]
  },
  {
   "cell_type": "code",
   "execution_count": 8,
   "metadata": {
    "collapsed": false
   },
   "outputs": [
    {
     "data": {
      "image/png": "[encoded data removed]",
      "text/plain": [
       "<matplotlib.figure.Figure at 0x111ae7250>"
      ]
     },
     "metadata": {},
     "output_type": "display_data"
    }
   ],
   "source": [
    "#missing values in test_df\n",
    "\n",
    "missing = test_df.isnull().sum(0).reset_index()\n",
    "missing.columns = ['column', 'count']\n",
    "missing = missing.sort_values(by = 'count', ascending = False).loc[missing['count'] > 0]\n",
    "missing['percentage'] = missing['count'] / float(test_df.shape[0]) * 100\n",
    "ind = np.arange(missing.shape[0])\n",
    "width = 0.9\n",
    "fig, ax = plt.subplots(figsize=(10,18))\n",
    "rects = ax.barh(ind, missing.percentage.values, color='r')\n",
    "ax.set_yticks(ind)\n",
    "ax.set_yticklabels(missing.column.values, rotation='horizontal')\n",
    "ax.set_xlabel(\"Precentage of missing values %\", fontsize = 14)\n",
    "ax.set_title(\"Number of missing values in each column\", fontsize = 18)\n",
    "plt.show()"
   ]
  },
  {
   "cell_type": "code",
   "execution_count": 9,
   "metadata": {
    "collapsed": false
   },
   "outputs": [],
   "source": [
    "#drop features with more than 30% missing values from train and test\n",
    "\n",
    "delete_col = missing.loc[missing['percentage'] > 30].column.values\n",
    "train_set = train_df.drop(delete_col, axis=1)\n",
    "test_set = test_df.drop(delete_col, axis=1)"
   ]
  },
  {
   "cell_type": "code",
   "execution_count": 10,
   "metadata": {
    "collapsed": false
   },
   "outputs": [
    {
     "data": {
      "text/plain": [
       "(30471, 322)"
      ]
     },
     "execution_count": 10,
     "metadata": {},
     "output_type": "execute_result"
    }
   ],
   "source": [
    "train_set.shape"
   ]
  },
  {
   "cell_type": "code",
   "execution_count": 11,
   "metadata": {
    "collapsed": false
   },
   "outputs": [
    {
     "data": {
      "text/plain": [
       "(7662, 321)"
      ]
     },
     "execution_count": 11,
     "metadata": {},
     "output_type": "execute_result"
    }
   ],
   "source": [
    "test_set.shape"
   ]
  },
  {
   "cell_type": "code",
   "execution_count": 12,
   "metadata": {
    "collapsed": false
   },
   "outputs": [
    {
     "data": {
      "text/html": [
       "<div>\n",
       "<table border=\"1\" class=\"dataframe\">\n",
       "  <thead>\n",
       "    <tr style=\"text-align: right;\">\n",
       "      <th></th>\n",
       "      <th>Column Type</th>\n",
       "      <th>Count</th>\n",
       "    </tr>\n",
       "  </thead>\n",
       "  <tbody>\n",
       "    <tr>\n",
       "      <th>0</th>\n",
       "      <td>int64</td>\n",
       "      <td>175</td>\n",
       "    </tr>\n",
       "    <tr>\n",
       "      <th>1</th>\n",
       "      <td>float64</td>\n",
       "      <td>147</td>\n",
       "    </tr>\n",
       "  </tbody>\n",
       "</table>\n",
       "</div>"
      ],
      "text/plain": [
       "  Column Type  Count\n",
       "0       int64    175\n",
       "1     float64    147"
      ]
     },
     "execution_count": 12,
     "metadata": {},
     "output_type": "execute_result"
    }
   ],
   "source": [
    "for f in train_set.columns:\n",
    "    if train_set[f].dtype=='object':\n",
    "        lbl = preprocessing.LabelEncoder()\n",
    "        lbl.fit(list(train_set[f].values)) \n",
    "        train_set[f] = lbl.transform(list(train_set[f].values))\n",
    "dtype_df = train_set.dtypes.reset_index()\n",
    "dtype_df.columns = [\"Count\", \"Column Type\"]\n",
    "dtype_df.groupby(\"Column Type\").aggregate('count').reset_index()"
   ]
  },
  {
   "cell_type": "code",
   "execution_count": 13,
   "metadata": {
    "collapsed": false
   },
   "outputs": [],
   "source": [
    "#Imputing missing values in train_set\n",
    "\n",
    "imputer = preprocessing.Imputer(missing_values=np.nan, strategy = 'median', axis =1)\n",
    "\n",
    "train_data = pd.DataFrame(imputer.fit_transform(train_set))\n",
    "train_data.columns = train_set.columns\n",
    "train_data.index = train_set.index"
   ]
  },
  {
   "cell_type": "code",
   "execution_count": 14,
   "metadata": {
    "collapsed": true
   },
   "outputs": [],
   "source": [
    "#Normalize train_data...can't normalize test_data? \n",
    "\n",
    "# train_data = pd.DataFrame(preprocessing.normalize(train_data, axis =1, copy=True, return_norm=False))\n",
    "# train_data.columns = train_set.columns\n",
    "# train_data.index = train_set.index"
   ]
  },
  {
   "cell_type": "code",
   "execution_count": 15,
   "metadata": {
    "collapsed": false
   },
   "outputs": [],
   "source": [
    "y_train = train_data[\"price_doc\"]\n",
    "x_train = train_data.drop([\"id\",\"timestamp\", \"price_doc\"], axis=1)\n",
    "x_test = test_set.drop([\"id\",\"timestamp\"], axis=1)"
   ]
  },
  {
   "cell_type": "code",
   "execution_count": 16,
   "metadata": {
    "collapsed": false
   },
   "outputs": [],
   "source": [
    "for c in x_train.columns:\n",
    "    if x_train[c].dtype == 'object':\n",
    "        lbl = preprocessing.LabelEncoder()\n",
    "        lbl.fit(list(x_train[c].values)) \n",
    "        x_train[c] = lbl.transform(list(x_train[c].values))\n",
    "        #x_train.drop(c,axis=1,inplace=True)\n",
    "        \n",
    "for c in x_test.columns:\n",
    "    if x_test[c].dtype == 'object':\n",
    "        lbl = preprocessing.LabelEncoder()\n",
    "        lbl.fit(list(x_test[c].values)) \n",
    "        x_test[c] = lbl.transform(list(x_test[c].values))\n",
    "        #x_test.drop(c,axis=1,inplace=True)  \n",
    "        \n",
    "# lbl = preprocessing.LabelEncoder()\n",
    "# lbl.fit(y_train)\n",
    "# y_train = lbl.transform(y_train)"
   ]
  },
  {
   "cell_type": "markdown",
   "metadata": {},
   "source": [
    "### Train-test split"
   ]
  },
  {
   "cell_type": "code",
   "execution_count": 17,
   "metadata": {
    "collapsed": false
   },
   "outputs": [
    {
     "data": {
      "text/plain": [
       "(30471, 322)"
      ]
     },
     "execution_count": 17,
     "metadata": {},
     "output_type": "execute_result"
    }
   ],
   "source": [
    "train_data.shape"
   ]
  },
  {
   "cell_type": "code",
   "execution_count": 18,
   "metadata": {
    "collapsed": false
   },
   "outputs": [],
   "source": [
    "# Split data into train and test leaving last 100 rows for the final evaluation\n",
    "from sklearn.cross_validation import train_test_split\n",
    "X_train, X_test, y_train, y_test = train_test_split(x_train.iloc[:-100], y_train.iloc[:-100], test_size=0.2)"
   ]
  },
  {
   "cell_type": "code",
   "execution_count": 19,
   "metadata": {
    "collapsed": false
   },
   "outputs": [
    {
     "name": "stdout",
     "output_type": "stream",
     "text": [
      "Database size: 30471 \n",
      "Train set size: 24296 \n",
      "Test set size: 6075 \n",
      "Validate set size: 100\n"
     ]
    }
   ],
   "source": [
    "print('Database size: {:g} \\nTrain set size: {:g} \\nTest set size: {:g} \\nValidate set size: {:g}'\n",
    "      .format(len(train_data), len(y_train), len(y_test), len(train_data)-(len(y_train)+len(y_test))))"
   ]
  },
  {
   "cell_type": "code",
   "execution_count": 20,
   "metadata": {
    "collapsed": true
   },
   "outputs": [],
   "source": [
    "scaler = preprocessing.StandardScaler()\n",
    "X_train = scaler.fit_transform(X_train)\n",
    "X_test = scaler.transform(X_test)"
   ]
  },
  {
   "cell_type": "code",
   "execution_count": 21,
   "metadata": {
    "collapsed": false
   },
   "outputs": [
    {
     "name": "stderr",
     "output_type": "stream",
     "text": [
      "/Users/chelimin/miniconda2/lib/python2.7/site-packages/sklearn/grid_search.py:43: DeprecationWarning: This module was deprecated in version 0.18 in favor of the model_selection module into which all the refactored classes and functions are moved. This module will be removed in 0.20.\n",
      "  DeprecationWarning)\n"
     ]
    }
   ],
   "source": [
    "from sklearn import metrics\n",
    "from sklearn import linear_model\n",
    "from sklearn.cross_validation import train_test_split\n",
    "from sklearn.cross_validation import KFold, cross_val_score\n",
    "from sklearn import svm\n",
    "from sklearn.ensemble import GradientBoostingRegressor\n",
    "from sklearn.ensemble import RandomForestRegressor\n",
    "from sklearn.grid_search import GridSearchCV\n",
    "from sklearn.pipeline import make_pipeline\n",
    "\n",
    "import tensorflow as tf\n",
    "from tensorflow.contrib import learn\n"
   ]
  },
  {
   "cell_type": "code",
   "execution_count": 22,
   "metadata": {
    "collapsed": true
   },
   "outputs": [],
   "source": [
    "# Train & evaluate model performance\n",
    "def train_and_evaluate(model, X, y):\n",
    "    model.fit(X, y)\n",
    "    print('Score on training set: {:g}'.format(model.score(X, y)))\n",
    "    # k-fold cross validation iterator of 5 folds\n",
    "    cv = KFold(X.shape[0], 5, shuffle=True)\n",
    "    scores = cross_val_score(model, X, y, cv=cv)\n",
    "    print('Score using 5-fold cross-validation: {:g} +/- {:g}'.format(np.mean(scores), np.std(scores)*2))"
   ]
  },
  {
   "cell_type": "markdown",
   "metadata": {},
   "source": [
    "### Linear Regression"
   ]
  },
  {
   "cell_type": "code",
   "execution_count": 25,
   "metadata": {
    "collapsed": false
   },
   "outputs": [
    {
     "name": "stdout",
     "output_type": "stream",
     "text": [
      "Score on training set: 0.403294\n",
      "Score using 5-fold cross-validation: -2.85851 +/- 8.70918\n"
     ]
    }
   ],
   "source": [
    "# Ordinary least squares Linear Regression\n",
    "\n",
    "from sklearn import linear_model\n",
    "clf_lr = linear_model.LinearRegression()\n",
    "train_and_evaluate(clf_lr, X_train, y_train.ravel())\n"
   ]
  },
  {
   "cell_type": "code",
   "execution_count": 26,
   "metadata": {
    "collapsed": false
   },
   "outputs": [
    {
     "name": "stdout",
     "output_type": "stream",
     "text": [
      "R2 score: 0.429148\n",
      "Explained variance score: 0.429503\n",
      "Mean squared error: 1.19546e+13\n"
     ]
    }
   ],
   "source": [
    "# Test model prediction on test data\n",
    "y_pred = clf_lr.predict(X_test)\n",
    "print('R2 score: {:g}'.format(metrics.r2_score(y_test, y_pred)))\n",
    "print('Explained variance score: {:g}'.format(metrics.explained_variance_score(y_test, y_pred)))\n",
    "print('Mean squared error: {:g}'.format(metrics.mean_squared_error(y_test, y_pred)))"
   ]
  },
  {
   "cell_type": "code",
   "execution_count": 27,
   "metadata": {
    "collapsed": false
   },
   "outputs": [
    {
     "data": {
      "image/png": "[encoded data removed]",
      "text/plain": [
       "<matplotlib.figure.Figure at 0x11295ef10>"
      ]
     },
     "metadata": {},
     "output_type": "display_data"
    }
   ],
   "source": [
    "# Residual plot\n",
    "fig, ax = plt.subplots(figsize=(7,5))\n",
    "ax.set_title('Ordinary least squares (residuals)')\n",
    "ax.scatter(y_test, y_pred-y_test, color='royalblue', s=30)\n",
    "ax.set_ylabel('Residuals')\n",
    "ax.hlines(0, y_test.min(), y_test.max())\n",
    "plt.tight_layout()\n",
    "plt.show()"
   ]
  },
  {
   "cell_type": "markdown",
   "metadata": {},
   "source": [
    "### SVM using GridSearch"
   ]
  },
  {
   "cell_type": "code",
   "execution_count": null,
   "metadata": {
    "collapsed": false
   },
   "outputs": [],
   "source": [
    "# Support Vector Regression - takes super loooong to run! \n",
    "# svr = SVR()\n",
    "# params = {'C':[0.01, 0.1, 1., 10., 100., 1000.],\n",
    "#           'kernel':['linear', 'poly', 'rbf'],\n",
    "#           'epsilon':[0.1, 1.]}\n",
    "\n",
    "# Grid search with cross-validation for optimal parameters\n",
    "# grid_obj = GridSearchCV(estimator=svr, param_grid=params, cv=5, n_jobs=-1)\n",
    "# grid_obj.fit(X_train, y_train)\n",
    "\n",
    "# Test model prediction on test data\n",
    "# y_pred = mach.predict(X_test)\n",
    "\n",
    "# print('R2 score: {:g}'.format(metrics.r2_score(y_test, y_pred)))\n",
    "# print('Explained variance score: {:g}'.format(metrics.explained_variance_score(y_test, y_pred)))\n",
    "# print('Mean squared error: {:g}'.format(metrics.mean_squared_error(y_test, y_pred)))"
   ]
  },
  {
   "cell_type": "code",
   "execution_count": null,
   "metadata": {
    "collapsed": false
   },
   "outputs": [],
   "source": [
    "# clf = svm.SVC(kernel='rbf') - takes too long to run! \n",
    "# clf.fit(X_train, y_train)\n",
    "\n",
    "# # Test model prediction on test data\n",
    "# y_pred = clf.predict(X_test)\n",
    "\n",
    "# print('R2 score: {:g}'.format(metrics.r2_score(y_test, y_pred)))\n",
    "# print('Explained variance score: {:g}'.format(metrics.explained_variance_score(y_test, y_pred)))\n",
    "# print('Mean squared error: {:g}'.format(metrics.mean_squared_error(y_test, y_pred)))"
   ]
  },
  {
   "cell_type": "markdown",
   "metadata": {},
   "source": [
    "### Random Forest"
   ]
  },
  {
   "cell_type": "code",
   "execution_count": 23,
   "metadata": {
    "collapsed": false
   },
   "outputs": [
    {
     "name": "stdout",
     "output_type": "stream",
     "text": [
      "Score on training set: 0.937491\n",
      "Score using 5-fold cross-validation: 0.630476 +/- 0.055627\n"
     ]
    }
   ],
   "source": [
    "# RandomForestRegressor\n",
    "\n",
    "forest = RandomForestRegressor()\n",
    "train_and_evaluate(forest, X_train, y_train)"
   ]
  },
  {
   "cell_type": "code",
   "execution_count": 24,
   "metadata": {
    "collapsed": false
   },
   "outputs": [
    {
     "name": "stdout",
     "output_type": "stream",
     "text": [
      "R2 score: 0.639537\n",
      "Explained variance score: 0.639538\n",
      "Mean squared error: 7.54866e+12\n"
     ]
    }
   ],
   "source": [
    "# Test model prediction on test data\n",
    "\n",
    "y_pred = forest.predict(X_test)\n",
    "print('R2 score: {:g}'.format(metrics.r2_score(y_test, y_pred)))\n",
    "print('Explained variance score: {:g}'.format(metrics.explained_variance_score(y_test, y_pred)))\n",
    "print('Mean squared error: {:g}'.format(metrics.mean_squared_error(y_test, y_pred)))"
   ]
  },
  {
   "cell_type": "markdown",
   "metadata": {},
   "source": [
    "### Gradient Boosting Regressor"
   ]
  },
  {
   "cell_type": "code",
   "execution_count": 28,
   "metadata": {
    "collapsed": false
   },
   "outputs": [
    {
     "name": "stdout",
     "output_type": "stream",
     "text": [
      "Score on training set: 0.819193\n",
      "Score using 5-fold cross-validation: 0.660798 +/- 0.0404566\n"
     ]
    }
   ],
   "source": [
    "# Gradient Boosting Regressor\n",
    "clf_gb = GradientBoostingRegressor(loss='lad', max_depth=10, n_estimators=100)\n",
    "train_and_evaluate(clf_gb, X_train, y_train)"
   ]
  },
  {
   "cell_type": "code",
   "execution_count": 29,
   "metadata": {
    "collapsed": false
   },
   "outputs": [
    {
     "name": "stdout",
     "output_type": "stream",
     "text": [
      "R2 score: 0.679413\n",
      "Explained variance score: 0.682344\n",
      "Mean squared error: 6.71361e+12\n"
     ]
    }
   ],
   "source": [
    "# Test model prediction on test data\n",
    "y_pred = clf_gb.predict(X_test)\n",
    "print('R2 score: {:g}'.format(metrics.r2_score(y_test, y_pred)))\n",
    "print('Explained variance score: {:g}'.format(metrics.explained_variance_score(y_test, y_pred)))\n",
    "print('Mean squared error: {:g}'.format(metrics.mean_squared_error(y_test, y_pred)))"
   ]
  },
  {
   "cell_type": "code",
   "execution_count": 30,
   "metadata": {
    "collapsed": false
   },
   "outputs": [
    {
     "data": {
      "image/png": "[encoded data removed]",
      "text/plain": [
       "<matplotlib.figure.Figure at 0x1122c1f10>"
      ]
     },
     "metadata": {},
     "output_type": "display_data"
    }
   ],
   "source": [
    "# Feature importance\n",
    "feature_importance = clf_gb.feature_importances_\n",
    "feature_importance = 100.0 * (feature_importance / feature_importance.max())\n",
    "sorted_idx = np.argsort(feature_importance)\n",
    "pos = np.arange(sorted_idx.shape[0]) + .5\n",
    "fig, ax = plt.subplots(figsize=(14,8))\n",
    "ax.barh(pos, feature_importance[sorted_idx], align='center')\n",
    "plt.yticks(pos, train_data.columns[sorted_idx])\n",
    "ax.set_xlabel('Feature Relative Importance')\n",
    "plt.tight_layout()\n",
    "plt.show()"
   ]
  },
  {
   "cell_type": "markdown",
   "metadata": {},
   "source": [
    "### XGBoost"
   ]
  },
  {
   "cell_type": "code",
   "execution_count": 31,
   "metadata": {
    "collapsed": false
   },
   "outputs": [
    {
     "name": "stdout",
     "output_type": "stream",
     "text": [
      "[0]\ttrain-rmse:8.25291e+06\ttest-rmse:8.25684e+06\n",
      "[50]\ttrain-rmse:2.49484e+06\ttest-rmse:2.963e+06\n",
      "[100]\ttrain-rmse:2.12425e+06\ttest-rmse:2.77468e+06\n",
      "[150]\ttrain-rmse:1.97699e+06\ttest-rmse:2.72605e+06\n",
      "[200]\ttrain-rmse:1.87631e+06\ttest-rmse:2.70282e+06\n",
      "[250]\ttrain-rmse:1.79353e+06\ttest-rmse:2.69075e+06\n",
      "[300]\ttrain-rmse:1.72117e+06\ttest-rmse:2.68251e+06\n",
      "[350]\ttrain-rmse:1.6595e+06\ttest-rmse:2.67788e+06\n",
      "[400]\ttrain-rmse:1.60202e+06\ttest-rmse:2.67342e+06\n",
      "[450]\ttrain-rmse:1.54887e+06\ttest-rmse:2.67203e+06\n",
      "[500]\ttrain-rmse:1.49747e+06\ttest-rmse:2.67065e+06\n",
      "R2 score: 0.699328\n",
      "Explained variance score: 0.699656\n",
      "Mean squared error: 6.29656e+12\n"
     ]
    },
    {
     "data": {
      "image/png": "[encoded data removed]",
      "text/plain": [
       "<matplotlib.figure.Figure at 0x11c7a0d10>"
      ]
     },
     "metadata": {},
     "output_type": "display_data"
    }
   ],
   "source": [
    "dtrain = xgb.DMatrix(X_train, y_train)\n",
    "dtest = xgb.DMatrix(X_test)\n",
    "\n",
    "xgb_params = {\n",
    "    'eta': 0.05,\n",
    "    'max_depth': 5,\n",
    "    'subsample': 0.7,\n",
    "    'colsample_bytree': 0.7,\n",
    "    'objective': 'reg:linear',\n",
    "    'eval_metric': 'rmse',\n",
    "    'silent': 1\n",
    "}\n",
    "\n",
    "cv_output = xgb.cv(xgb_params, dtrain, num_boost_round=1000, early_stopping_rounds=20,\n",
    "    verbose_eval=50, show_stdv=False)\n",
    "cv_output[['train-rmse-mean', 'test-rmse-mean']].plot()\n",
    "\n",
    "num_boost_rounds = len(cv_output)\n",
    "clf_xgb = xgb.train(dict(xgb_params, silent=0), dtrain, num_boost_round= num_boost_rounds)\n",
    "y_pred = clf_xgb.predict(dtest)\n",
    "\n",
    "print('R2 score: {:g}'.format(metrics.r2_score(y_test, y_pred)))\n",
    "print('Explained variance score: {:g}'.format(metrics.explained_variance_score(y_test, y_pred)))\n",
    "print('Mean squared error: {:g}'.format(metrics.mean_squared_error(y_test, y_pred)))"
   ]
  },
  {
   "cell_type": "markdown",
   "metadata": {},
   "source": [
    "### TensorFlow"
   ]
  },
  {
   "cell_type": "code",
   "execution_count": 32,
   "metadata": {
    "collapsed": false
   },
   "outputs": [
    {
     "name": "stdout",
     "output_type": "stream",
     "text": [
      "WARNING:tensorflow:float64 is not supported by many models, consider casting to float32.\n",
      "WARNING:tensorflow:Using temporary folder as model directory: /var/folders/7g/zyrh78dj0_n0_bfwvzhtymhr0000gn/T/tmp9BIfvX\n",
      "INFO:tensorflow:Using default config.\n",
      "INFO:tensorflow:Using config: {'_save_checkpoints_secs': 600, '_num_ps_replicas': 0, '_keep_checkpoint_max': 5, '_tf_random_seed': None, '_task_type': None, '_environment': 'local', '_is_chief': True, '_cluster_spec': <tensorflow.python.training.server_lib.ClusterSpec object at 0x11564ab50>, '_tf_config': gpu_options {\n",
      "  per_process_gpu_memory_fraction: 1\n",
      "}\n",
      ", '_task_id': 0, '_save_summary_steps': 100, '_save_checkpoints_steps': None, '_evaluation_master': '', '_keep_checkpoint_every_n_hours': 10000, '_master': ''}\n",
      "WARNING:tensorflow:From <ipython-input-32-aa21497781eb>:13: calling fit (from tensorflow.contrib.learn.python.learn.estimators.estimator) with y is deprecated and will be removed after 2016-12-01.\n",
      "Instructions for updating:\n",
      "Estimator is decoupled from Scikit Learn interface by moving into\n",
      "separate class SKCompat. Arguments x, y and batch_size are only\n",
      "available in the SKCompat class, Estimator will only accept input_fn.\n",
      "Example conversion:\n",
      "  est = Estimator(...) -> est = SKCompat(Estimator(...))\n",
      "WARNING:tensorflow:From <ipython-input-32-aa21497781eb>:13: calling fit (from tensorflow.contrib.learn.python.learn.estimators.estimator) with x is deprecated and will be removed after 2016-12-01.\n",
      "Instructions for updating:\n",
      "Estimator is decoupled from Scikit Learn interface by moving into\n",
      "separate class SKCompat. Arguments x, y and batch_size are only\n",
      "available in the SKCompat class, Estimator will only accept input_fn.\n",
      "Example conversion:\n",
      "  est = Estimator(...) -> est = SKCompat(Estimator(...))\n",
      "WARNING:tensorflow:From <ipython-input-32-aa21497781eb>:13: calling fit (from tensorflow.contrib.learn.python.learn.estimators.estimator) with batch_size is deprecated and will be removed after 2016-12-01.\n",
      "Instructions for updating:\n",
      "Estimator is decoupled from Scikit Learn interface by moving into\n",
      "separate class SKCompat. Arguments x, y and batch_size are only\n",
      "available in the SKCompat class, Estimator will only accept input_fn.\n",
      "Example conversion:\n",
      "  est = Estimator(...) -> est = SKCompat(Estimator(...))\n",
      "WARNING:tensorflow:float64 is not supported by many models, consider casting to float32.\n",
      "WARNING:tensorflow:float64 is not supported by many models, consider casting to float32.\n"
     ]
    },
    {
     "name": "stderr",
     "output_type": "stream",
     "text": [
      "/Users/chelimin/miniconda2/lib/python2.7/site-packages/tensorflow/python/util/deprecation.py:247: FutureWarning: comparison to `None` will result in an elementwise object comparison in the future.\n",
      "  equality = a == b\n"
     ]
    },
    {
     "name": "stdout",
     "output_type": "stream",
     "text": [
      "WARNING:tensorflow:From /Users/chelimin/miniconda2/lib/python2.7/site-packages/tensorflow/contrib/learn/python/learn/estimators/head.py:1362: scalar_summary (from tensorflow.python.ops.logging_ops) is deprecated and will be removed after 2016-11-30.\n",
      "Instructions for updating:\n",
      "Please switch to tf.summary.scalar. Note that tf.summary.scalar uses the node name instead of the tag. This means that TensorFlow will automatically de-duplicate summary names based on the scope they are created in. Also, passing a tensor or list of tags to a scalar summary op is no longer supported.\n",
      "INFO:tensorflow:Create CheckpointSaverHook.\n",
      "INFO:tensorflow:Saving checkpoints for 1 into /var/folders/7g/zyrh78dj0_n0_bfwvzhtymhr0000gn/T/tmp9BIfvX/model.ckpt.\n",
      "INFO:tensorflow:loss = 7.26339e+13, step = 1\n",
      "INFO:tensorflow:global_step/sec: 23.7321\n",
      "INFO:tensorflow:loss = 6.44903e+13, step = 101\n",
      "INFO:tensorflow:global_step/sec: 22.2374\n",
      "INFO:tensorflow:loss = 4.15067e+13, step = 201\n",
      "INFO:tensorflow:global_step/sec: 25.4554\n",
      "INFO:tensorflow:loss = 2.60568e+13, step = 301\n",
      "INFO:tensorflow:global_step/sec: 23.2029\n",
      "INFO:tensorflow:loss = 4.25001e+13, step = 401\n",
      "INFO:tensorflow:global_step/sec: 24.4543\n",
      "INFO:tensorflow:loss = 2.0821e+13, step = 501\n",
      "INFO:tensorflow:global_step/sec: 25.251\n",
      "INFO:tensorflow:loss = 1.3834e+13, step = 601\n",
      "INFO:tensorflow:global_step/sec: 25.9677\n",
      "INFO:tensorflow:loss = 1.25633e+13, step = 701\n",
      "INFO:tensorflow:global_step/sec: 25.1908\n",
      "INFO:tensorflow:loss = 1.80771e+13, step = 801\n",
      "INFO:tensorflow:global_step/sec: 25.2344\n",
      "INFO:tensorflow:loss = 1.05718e+13, step = 901\n",
      "INFO:tensorflow:global_step/sec: 22.9809\n",
      "INFO:tensorflow:loss = 1.48468e+13, step = 1001\n",
      "INFO:tensorflow:global_step/sec: 25.5669\n",
      "INFO:tensorflow:loss = 9.61567e+12, step = 1101\n",
      "INFO:tensorflow:global_step/sec: 25.8694\n",
      "INFO:tensorflow:loss = 1.332e+13, step = 1201\n",
      "INFO:tensorflow:global_step/sec: 25.9918\n",
      "INFO:tensorflow:loss = 9.29212e+12, step = 1301\n",
      "INFO:tensorflow:global_step/sec: 25.9805\n",
      "INFO:tensorflow:loss = 1.82098e+13, step = 1401\n",
      "INFO:tensorflow:global_step/sec: 25.5255\n",
      "INFO:tensorflow:loss = 1.39119e+13, step = 1501\n",
      "INFO:tensorflow:global_step/sec: 25.6709\n",
      "INFO:tensorflow:loss = 1.47629e+13, step = 1601\n",
      "INFO:tensorflow:global_step/sec: 25.6824\n",
      "INFO:tensorflow:loss = 1.57091e+13, step = 1701\n",
      "INFO:tensorflow:global_step/sec: 25.2146\n",
      "INFO:tensorflow:loss = 1.17899e+13, step = 1801\n",
      "INFO:tensorflow:global_step/sec: 24.7012\n",
      "INFO:tensorflow:loss = 2.2654e+13, step = 1901\n",
      "INFO:tensorflow:global_step/sec: 24.3385\n",
      "INFO:tensorflow:loss = 1.06787e+13, step = 2001\n",
      "INFO:tensorflow:global_step/sec: 22.2779\n",
      "INFO:tensorflow:loss = 2.06675e+13, step = 2101\n",
      "INFO:tensorflow:global_step/sec: 24.9178\n",
      "INFO:tensorflow:loss = 3.44198e+13, step = 2201\n",
      "INFO:tensorflow:global_step/sec: 25.0224\n",
      "INFO:tensorflow:loss = 8.1645e+12, step = 2301\n",
      "INFO:tensorflow:global_step/sec: 25.3461\n",
      "INFO:tensorflow:loss = 1.20773e+13, step = 2401\n",
      "INFO:tensorflow:global_step/sec: 25.3484\n",
      "INFO:tensorflow:loss = 2.35754e+13, step = 2501\n",
      "INFO:tensorflow:global_step/sec: 25.0607\n",
      "INFO:tensorflow:loss = 1.28226e+13, step = 2601\n",
      "INFO:tensorflow:global_step/sec: 24.7687\n",
      "INFO:tensorflow:loss = 2.10797e+13, step = 2701\n",
      "INFO:tensorflow:global_step/sec: 24.0258\n",
      "INFO:tensorflow:loss = 7.24047e+12, step = 2801\n",
      "INFO:tensorflow:global_step/sec: 24.8529\n",
      "INFO:tensorflow:loss = 1.22955e+13, step = 2901\n",
      "INFO:tensorflow:global_step/sec: 24.574\n",
      "INFO:tensorflow:loss = 1.02887e+13, step = 3001\n",
      "INFO:tensorflow:global_step/sec: 24.7379\n",
      "INFO:tensorflow:loss = 1.2287e+13, step = 3101\n",
      "INFO:tensorflow:global_step/sec: 24.9735\n",
      "INFO:tensorflow:loss = 1.30295e+13, step = 3201\n",
      "INFO:tensorflow:global_step/sec: 25.3925\n",
      "INFO:tensorflow:loss = 1.00702e+13, step = 3301\n",
      "INFO:tensorflow:global_step/sec: 24.3989\n",
      "INFO:tensorflow:loss = 9.70062e+12, step = 3401\n",
      "INFO:tensorflow:global_step/sec: 24.7652\n",
      "INFO:tensorflow:loss = 1.68246e+13, step = 3501\n",
      "INFO:tensorflow:global_step/sec: 24.8382\n",
      "INFO:tensorflow:loss = 1.20667e+13, step = 3601\n",
      "INFO:tensorflow:global_step/sec: 25.4996\n",
      "INFO:tensorflow:loss = 8.84234e+12, step = 3701\n",
      "INFO:tensorflow:global_step/sec: 24.8784\n",
      "INFO:tensorflow:loss = 9.01779e+12, step = 3801\n",
      "INFO:tensorflow:global_step/sec: 25.3217\n",
      "INFO:tensorflow:loss = 1.34644e+13, step = 3901\n",
      "INFO:tensorflow:global_step/sec: 25.2275\n",
      "INFO:tensorflow:loss = 1.76138e+13, step = 4001\n",
      "INFO:tensorflow:global_step/sec: 25.0765\n",
      "INFO:tensorflow:loss = 8.68688e+12, step = 4101\n",
      "INFO:tensorflow:global_step/sec: 25.342\n",
      "INFO:tensorflow:loss = 1.20109e+13, step = 4201\n",
      "INFO:tensorflow:global_step/sec: 25.6114\n",
      "INFO:tensorflow:loss = 1.62866e+13, step = 4301\n",
      "INFO:tensorflow:global_step/sec: 25.3536\n",
      "INFO:tensorflow:loss = 9.4715e+12, step = 4401\n",
      "INFO:tensorflow:global_step/sec: 25.1365\n",
      "INFO:tensorflow:loss = 1.63984e+13, step = 4501\n",
      "INFO:tensorflow:global_step/sec: 25.1925\n",
      "INFO:tensorflow:loss = 1.28153e+13, step = 4601\n",
      "INFO:tensorflow:global_step/sec: 25.3653\n",
      "INFO:tensorflow:loss = 1.79831e+13, step = 4701\n",
      "INFO:tensorflow:global_step/sec: 25.0496\n",
      "INFO:tensorflow:loss = 1.28873e+13, step = 4801\n",
      "INFO:tensorflow:global_step/sec: 25.0242\n",
      "INFO:tensorflow:loss = 1.27597e+13, step = 4901\n",
      "INFO:tensorflow:global_step/sec: 25.5961\n",
      "INFO:tensorflow:loss = 1.39462e+13, step = 5001\n",
      "INFO:tensorflow:global_step/sec: 21.4179\n",
      "INFO:tensorflow:loss = 7.99943e+12, step = 5101\n",
      "INFO:tensorflow:global_step/sec: 23.6418\n",
      "INFO:tensorflow:loss = 8.51444e+12, step = 5201\n",
      "INFO:tensorflow:global_step/sec: 24.0463\n",
      "INFO:tensorflow:loss = 9.37363e+12, step = 5301\n",
      "INFO:tensorflow:global_step/sec: 25.0126\n",
      "INFO:tensorflow:loss = 1.11416e+13, step = 5401\n",
      "INFO:tensorflow:global_step/sec: 24.3428\n",
      "INFO:tensorflow:loss = 8.82753e+12, step = 5501\n",
      "INFO:tensorflow:global_step/sec: 22.9248\n",
      "INFO:tensorflow:loss = 8.49064e+12, step = 5601\n",
      "INFO:tensorflow:global_step/sec: 25.5698\n",
      "INFO:tensorflow:loss = 5.84219e+12, step = 5701\n",
      "INFO:tensorflow:global_step/sec: 25.4126\n",
      "INFO:tensorflow:loss = 1.27044e+13, step = 5801\n",
      "INFO:tensorflow:global_step/sec: 25.4617\n",
      "INFO:tensorflow:loss = 1.0978e+13, step = 5901\n",
      "INFO:tensorflow:global_step/sec: 25.9222\n",
      "INFO:tensorflow:loss = 8.23108e+12, step = 6001\n",
      "INFO:tensorflow:global_step/sec: 25.2339\n",
      "INFO:tensorflow:loss = 8.97763e+12, step = 6101\n",
      "INFO:tensorflow:global_step/sec: 25.5539\n",
      "INFO:tensorflow:loss = 3.19309e+13, step = 6201\n",
      "INFO:tensorflow:global_step/sec: 25.4745\n",
      "INFO:tensorflow:loss = 1.86911e+13, step = 6301\n",
      "INFO:tensorflow:global_step/sec: 24.5532\n",
      "INFO:tensorflow:loss = 1.24701e+13, step = 6401\n",
      "INFO:tensorflow:global_step/sec: 22.6282\n",
      "INFO:tensorflow:loss = 1.36412e+13, step = 6501\n",
      "INFO:tensorflow:global_step/sec: 24.6768\n",
      "INFO:tensorflow:loss = 1.78772e+13, step = 6601\n",
      "INFO:tensorflow:global_step/sec: 24.987\n",
      "INFO:tensorflow:loss = 8.13034e+12, step = 6701\n",
      "INFO:tensorflow:global_step/sec: 24.4494\n",
      "INFO:tensorflow:loss = 1.68498e+13, step = 6801\n",
      "INFO:tensorflow:global_step/sec: 23.4\n",
      "INFO:tensorflow:loss = 1.34888e+13, step = 6901\n",
      "INFO:tensorflow:global_step/sec: 24.9961\n",
      "INFO:tensorflow:loss = 1.83569e+13, step = 7001\n",
      "INFO:tensorflow:global_step/sec: 23.5577\n",
      "INFO:tensorflow:loss = 8.28931e+12, step = 7101\n",
      "INFO:tensorflow:global_step/sec: 19.6664\n",
      "INFO:tensorflow:loss = 2.87941e+13, step = 7201\n",
      "INFO:tensorflow:global_step/sec: 20.9327\n",
      "INFO:tensorflow:loss = 1.07749e+13, step = 7301\n",
      "INFO:tensorflow:global_step/sec: 19.5948\n",
      "INFO:tensorflow:loss = 1.2441e+13, step = 7401\n",
      "INFO:tensorflow:global_step/sec: 21.1043\n",
      "INFO:tensorflow:loss = 7.40483e+12, step = 7501\n",
      "INFO:tensorflow:global_step/sec: 25.038\n",
      "INFO:tensorflow:loss = 9.72226e+12, step = 7601\n",
      "INFO:tensorflow:global_step/sec: 22.9093\n",
      "INFO:tensorflow:loss = 1.101e+13, step = 7701\n",
      "INFO:tensorflow:global_step/sec: 22.1899\n",
      "INFO:tensorflow:loss = 8.77709e+12, step = 7801\n",
      "INFO:tensorflow:global_step/sec: 22.4225\n",
      "INFO:tensorflow:loss = 8.31254e+12, step = 7901\n",
      "INFO:tensorflow:global_step/sec: 23.3358\n",
      "INFO:tensorflow:loss = 1.38866e+13, step = 8001\n",
      "INFO:tensorflow:global_step/sec: 22.4206\n",
      "INFO:tensorflow:loss = 7.50463e+12, step = 8101\n",
      "INFO:tensorflow:global_step/sec: 23.7499\n",
      "INFO:tensorflow:loss = 7.40542e+12, step = 8201\n",
      "INFO:tensorflow:global_step/sec: 24.3869\n",
      "INFO:tensorflow:loss = 1.28132e+13, step = 8301\n",
      "INFO:tensorflow:global_step/sec: 25.2431\n",
      "INFO:tensorflow:loss = 1.5661e+13, step = 8401\n",
      "INFO:tensorflow:global_step/sec: 23.3251\n",
      "INFO:tensorflow:loss = 5.84192e+12, step = 8501\n",
      "INFO:tensorflow:global_step/sec: 20.501\n",
      "INFO:tensorflow:loss = 8.19145e+12, step = 8601\n",
      "INFO:tensorflow:global_step/sec: 23.0009\n",
      "INFO:tensorflow:loss = 9.98333e+12, step = 8701\n",
      "INFO:tensorflow:global_step/sec: 22.1262\n",
      "INFO:tensorflow:loss = 1.6951e+13, step = 8801\n",
      "INFO:tensorflow:global_step/sec: 21.8605\n",
      "INFO:tensorflow:loss = 1.16577e+13, step = 8901\n",
      "INFO:tensorflow:global_step/sec: 25.0598\n",
      "INFO:tensorflow:loss = 1.18238e+13, step = 9001\n",
      "INFO:tensorflow:global_step/sec: 23.4495\n",
      "INFO:tensorflow:loss = 8.25957e+12, step = 9101\n",
      "INFO:tensorflow:global_step/sec: 23.7753\n",
      "INFO:tensorflow:loss = 1.86282e+13, step = 9201\n",
      "INFO:tensorflow:global_step/sec: 22.3794\n",
      "INFO:tensorflow:loss = 1.34354e+13, step = 9301\n",
      "INFO:tensorflow:global_step/sec: 22.6363\n",
      "INFO:tensorflow:loss = 1.65064e+13, step = 9401\n",
      "INFO:tensorflow:global_step/sec: 21.6207\n",
      "INFO:tensorflow:loss = 1.34115e+13, step = 9501\n",
      "INFO:tensorflow:global_step/sec: 21.1625\n",
      "INFO:tensorflow:loss = 6.17019e+12, step = 9601\n",
      "INFO:tensorflow:global_step/sec: 22.7408\n",
      "INFO:tensorflow:loss = 2.32425e+13, step = 9701\n",
      "INFO:tensorflow:global_step/sec: 25.2941\n",
      "INFO:tensorflow:loss = 1.049e+13, step = 9801\n",
      "INFO:tensorflow:global_step/sec: 22.6061\n",
      "INFO:tensorflow:loss = 7.15803e+12, step = 9901\n",
      "INFO:tensorflow:global_step/sec: 23.8896\n",
      "INFO:tensorflow:loss = 1.10636e+13, step = 10001\n",
      "INFO:tensorflow:global_step/sec: 25.2813\n",
      "INFO:tensorflow:loss = 6.53286e+12, step = 10101\n",
      "INFO:tensorflow:global_step/sec: 23.8624\n",
      "INFO:tensorflow:loss = 8.10389e+12, step = 10201\n",
      "INFO:tensorflow:global_step/sec: 25.6551\n",
      "INFO:tensorflow:loss = 7.65555e+12, step = 10301\n",
      "INFO:tensorflow:global_step/sec: 24.9306\n",
      "INFO:tensorflow:loss = 1.01182e+13, step = 10401\n",
      "INFO:tensorflow:global_step/sec: 25.6807\n",
      "INFO:tensorflow:loss = 1.16745e+13, step = 10501\n",
      "INFO:tensorflow:global_step/sec: 24.7047\n",
      "INFO:tensorflow:loss = 7.92377e+12, step = 10601\n",
      "INFO:tensorflow:global_step/sec: 24.6272\n",
      "INFO:tensorflow:loss = 2.06083e+13, step = 10701\n",
      "INFO:tensorflow:global_step/sec: 25.703\n",
      "INFO:tensorflow:loss = 8.95826e+12, step = 10801\n",
      "INFO:tensorflow:global_step/sec: 25.4612\n",
      "INFO:tensorflow:loss = 1.62615e+13, step = 10901\n",
      "INFO:tensorflow:global_step/sec: 25.5459\n",
      "INFO:tensorflow:loss = 1.43481e+13, step = 11001\n",
      "INFO:tensorflow:global_step/sec: 21.9425\n",
      "INFO:tensorflow:loss = 7.32669e+12, step = 11101\n",
      "INFO:tensorflow:global_step/sec: 24.3205\n",
      "INFO:tensorflow:loss = 8.76759e+12, step = 11201\n",
      "INFO:tensorflow:global_step/sec: 23.326\n",
      "INFO:tensorflow:loss = 8.04298e+12, step = 11301\n",
      "INFO:tensorflow:global_step/sec: 21.9922\n",
      "INFO:tensorflow:loss = 6.46065e+12, step = 11401\n",
      "INFO:tensorflow:global_step/sec: 24.4431\n",
      "INFO:tensorflow:loss = 1.00738e+13, step = 11501\n",
      "INFO:tensorflow:global_step/sec: 22.4842\n",
      "INFO:tensorflow:loss = 8.43077e+12, step = 11601\n",
      "INFO:tensorflow:global_step/sec: 25.2893\n",
      "INFO:tensorflow:loss = 1.27194e+13, step = 11701\n",
      "INFO:tensorflow:global_step/sec: 24.3387\n",
      "INFO:tensorflow:loss = 1.15886e+13, step = 11801\n",
      "INFO:tensorflow:global_step/sec: 24.4566\n",
      "INFO:tensorflow:loss = 6.87102e+12, step = 11901\n",
      "INFO:tensorflow:global_step/sec: 24.7478\n",
      "INFO:tensorflow:loss = 7.04839e+12, step = 12001\n",
      "INFO:tensorflow:global_step/sec: 25.3233\n",
      "INFO:tensorflow:loss = 1.00651e+13, step = 12101\n",
      "INFO:tensorflow:global_step/sec: 23.3768\n",
      "INFO:tensorflow:loss = 1.90669e+13, step = 12201\n",
      "INFO:tensorflow:global_step/sec: 21.9537\n",
      "INFO:tensorflow:loss = 1.41136e+13, step = 12301\n",
      "INFO:tensorflow:global_step/sec: 22.352\n",
      "INFO:tensorflow:loss = 8.24427e+12, step = 12401\n",
      "INFO:tensorflow:global_step/sec: 20.8499\n",
      "INFO:tensorflow:loss = 7.28878e+12, step = 12501\n",
      "INFO:tensorflow:global_step/sec: 19.1605\n",
      "INFO:tensorflow:loss = 7.61374e+12, step = 12601\n",
      "INFO:tensorflow:global_step/sec: 25.3318\n",
      "INFO:tensorflow:loss = 8.54272e+12, step = 12701\n",
      "INFO:tensorflow:global_step/sec: 22.4249\n",
      "INFO:tensorflow:loss = 8.47802e+12, step = 12801\n",
      "INFO:tensorflow:global_step/sec: 20.4048\n",
      "INFO:tensorflow:loss = 1.27439e+13, step = 12901\n",
      "INFO:tensorflow:global_step/sec: 23.4797\n",
      "INFO:tensorflow:loss = 9.82067e+12, step = 13001\n",
      "INFO:tensorflow:global_step/sec: 22.5029\n",
      "INFO:tensorflow:loss = 1.22868e+13, step = 13101\n",
      "INFO:tensorflow:global_step/sec: 19.9373\n",
      "INFO:tensorflow:loss = 1.19561e+13, step = 13201\n",
      "INFO:tensorflow:global_step/sec: 22.6611\n",
      "INFO:tensorflow:loss = 7.61515e+12, step = 13301\n",
      "INFO:tensorflow:global_step/sec: 22.9039\n",
      "INFO:tensorflow:loss = 9.86994e+12, step = 13401\n",
      "INFO:tensorflow:global_step/sec: 16.3524\n",
      "INFO:tensorflow:loss = 9.08123e+12, step = 13501\n",
      "INFO:tensorflow:global_step/sec: 20.0814\n",
      "INFO:tensorflow:loss = 9.01599e+12, step = 13601\n",
      "INFO:tensorflow:global_step/sec: 24.2286\n",
      "INFO:tensorflow:loss = 6.3068e+12, step = 13701\n",
      "INFO:tensorflow:global_step/sec: 25.351\n",
      "INFO:tensorflow:loss = 6.85614e+12, step = 13801\n",
      "INFO:tensorflow:global_step/sec: 24.9116\n",
      "INFO:tensorflow:loss = 2.65045e+13, step = 13901\n",
      "INFO:tensorflow:global_step/sec: 23.1031\n",
      "INFO:tensorflow:loss = 9.40478e+12, step = 14001\n",
      "INFO:tensorflow:global_step/sec: 21.0679\n",
      "INFO:tensorflow:loss = 6.92314e+12, step = 14101\n",
      "INFO:tensorflow:global_step/sec: 22.347\n",
      "INFO:tensorflow:loss = 9.97315e+12, step = 14201\n",
      "INFO:tensorflow:Saving checkpoints for 14252 into /var/folders/7g/zyrh78dj0_n0_bfwvzhtymhr0000gn/T/tmp9BIfvX/model.ckpt.\n",
      "INFO:tensorflow:global_step/sec: 17.5303\n",
      "INFO:tensorflow:loss = 8.13326e+12, step = 14301\n",
      "INFO:tensorflow:global_step/sec: 20.3363\n",
      "INFO:tensorflow:loss = 7.71583e+12, step = 14401\n",
      "INFO:tensorflow:global_step/sec: 21.4738\n",
      "INFO:tensorflow:loss = 1.02296e+13, step = 14501\n",
      "INFO:tensorflow:global_step/sec: 24.3816\n",
      "INFO:tensorflow:loss = 9.66753e+12, step = 14601\n",
      "INFO:tensorflow:global_step/sec: 22.7741\n",
      "INFO:tensorflow:loss = 9.00079e+12, step = 14701\n",
      "INFO:tensorflow:global_step/sec: 22.2188\n",
      "INFO:tensorflow:loss = 2.70686e+13, step = 14801\n",
      "INFO:tensorflow:global_step/sec: 24.8232\n",
      "INFO:tensorflow:loss = 5.84922e+12, step = 14901\n",
      "INFO:tensorflow:Saving checkpoints for 15000 into /var/folders/7g/zyrh78dj0_n0_bfwvzhtymhr0000gn/T/tmp9BIfvX/model.ckpt.\n",
      "INFO:tensorflow:Loss for final step: 8.19865e+12.\n",
      "WARNING:tensorflow:From /Users/chelimin/miniconda2/lib/python2.7/site-packages/tensorflow/contrib/learn/python/learn/estimators/dnn.py:692: calling predict (from tensorflow.contrib.learn.python.learn.estimators.estimator) with x is deprecated and will be removed after 2016-12-01.\n",
      "Instructions for updating:\n",
      "Estimator is decoupled from Scikit Learn interface by moving into\n",
      "separate class SKCompat. Arguments x, y and batch_size are only\n",
      "available in the SKCompat class, Estimator will only accept input_fn.\n",
      "Example conversion:\n",
      "  est = Estimator(...) -> est = SKCompat(Estimator(...))\n",
      "WARNING:tensorflow:float64 is not supported by many models, consider casting to float32.\n"
     ]
    }
   ],
   "source": [
    "# TensorFlow Regression using DNN\n",
    "features = learn.infer_real_valued_columns_from_input(X_train)\n",
    "\n",
    "# Optimizer algorithm\n",
    "adam = tf.train.AdamOptimizer(learning_rate=0.001)\n",
    "\n",
    "# Build a multi-layer DNN for regression\n",
    "model_nn = learn.DNNRegressor(feature_columns=features, hidden_units=[400, 200, 100], \n",
    "                              optimizer=adam, activation_fn=tf.nn.relu,\n",
    "                              )\n",
    "\n",
    "# Fit and predict\n",
    "model_nn.fit(X_train, y_train, steps=15000, batch_size=512)\n",
    "y_pred = model_nn.predict(X_test)\n",
    "\n",
    "# print('R2 score: {:g}'.format(metrics.r2_score(y_test, y_pred)))\n",
    "# print('Explained variance score: {:g}'.format(metrics.explained_variance_score(y_test, y_pred)))\n",
    "# print('Mean squared error: {:g}'.format(metrics.mean_squared_error(y_test, y_pred)))"
   ]
  },
  {
   "cell_type": "markdown",
   "metadata": {},
   "source": [
    "### Stacking 1"
   ]
  },
  {
   "cell_type": "code",
   "execution_count": 35,
   "metadata": {
    "collapsed": false
   },
   "outputs": [
    {
     "name": "stdout",
     "output_type": "stream",
     "text": [
      "WARNING:tensorflow:From /Users/chelimin/miniconda2/lib/python2.7/site-packages/tensorflow/contrib/learn/python/learn/estimators/dnn.py:692: calling predict (from tensorflow.contrib.learn.python.learn.estimators.estimator) with x is deprecated and will be removed after 2016-12-01.\n",
      "Instructions for updating:\n",
      "Estimator is decoupled from Scikit Learn interface by moving into\n",
      "separate class SKCompat. Arguments x, y and batch_size are only\n",
      "available in the SKCompat class, Estimator will only accept input_fn.\n",
      "Example conversion:\n",
      "  est = Estimator(...) -> est = SKCompat(Estimator(...))\n",
      "WARNING:tensorflow:float64 is not supported by many models, consider casting to float32.\n"
     ]
    }
   ],
   "source": [
    "y_lr = list(clf_lr.predict(X_test))     # Linear \n",
    "y_rf = list(forest.predict(X_test))     # Random Forest\n",
    "y_gb = list(clf_gb.predict(X_test))     # Gradient Boosting\n",
    "\n",
    "dtest = xgb.DMatrix(X_test)\n",
    "y_xgb = list(clf_xgb.predict(dtest))    # XGBoost\n",
    "\n",
    "y_nn = list(model_nn.predict(X_test))   # DNN\n",
    "\n",
    "stack = pd.DataFrame({'lr':y_lr, 'gb':y_gb, 'xgb':y_xgb,'rf':y_rf,'nn':y_nn, 'true':y_test})"
   ]
  },
  {
   "cell_type": "code",
   "execution_count": null,
   "metadata": {
    "collapsed": false
   },
   "outputs": [],
   "source": [
    "df = pd.DataFrame(data.items(), columns=['Model', 'Values'])\n",
    "df.head()"
   ]
  },
  {
   "cell_type": "code",
   "execution_count": 36,
   "metadata": {
    "collapsed": false
   },
   "outputs": [
    {
     "data": {
      "text/plain": [
       "TheilSenRegressor(copy_X=True, fit_intercept=False, max_iter=300,\n",
       "         max_subpopulation=10000, n_jobs=-1, n_subsamples=None,\n",
       "         random_state=None, tol=0.001, verbose=False)"
      ]
     },
     "execution_count": 36,
     "metadata": {},
     "output_type": "execute_result"
    }
   ],
   "source": [
    "# Stacking & Ensembling multiple regressors\n",
    "stack_type = 'TheilSan'\n",
    "\n",
    "if stack_type == 'OLS':\n",
    "    # Ordinary least squares Linear Regression (OLS)\n",
    "    stacker = linear_model.LinearRegression(fit_intercept=False)\n",
    "elif stack_type == 'Ridge':\n",
    "    # Linear least squares with L2 regularization (Ridge)\n",
    "    stacker = linear_model.Ridge(fit_intercept=False)\n",
    "elif stack_type == 'TheilSan':\n",
    "    # Theil-Sen Estimator: robust multivariate regression model\n",
    "    stacker = linear_model.TheilSenRegressor(fit_intercept=False, n_jobs=-1)\n",
    "\n",
    "# RF + GBR + XGB + NN\n",
    "stacker.fit(X=stack.loc[:, lambda df: ['gb','rf','nn','xgb']], y=stack['true'])"
   ]
  },
  {
   "cell_type": "code",
   "execution_count": 42,
   "metadata": {
    "collapsed": false
   },
   "outputs": [
    {
     "name": "stdout",
     "output_type": "stream",
     "text": [
      "WARNING:tensorflow:float64 is not supported by many models, consider casting to float32.\n",
      "WARNING:tensorflow:Using temporary folder as model directory: /var/folders/7g/zyrh78dj0_n0_bfwvzhtymhr0000gn/T/tmp1cbAqK\n",
      "INFO:tensorflow:Using default config.\n",
      "INFO:tensorflow:Using config: {'_save_checkpoints_secs': 600, '_num_ps_replicas': 0, '_keep_checkpoint_max': 5, '_tf_random_seed': None, '_task_type': None, '_environment': 'local', '_is_chief': True, '_cluster_spec': <tensorflow.python.training.server_lib.ClusterSpec object at 0x13b9bd710>, '_tf_config': gpu_options {\n",
      "  per_process_gpu_memory_fraction: 1\n",
      "}\n",
      ", '_task_id': 0, '_save_summary_steps': 100, '_save_checkpoints_steps': None, '_evaluation_master': '', '_keep_checkpoint_every_n_hours': 10000, '_master': ''}\n",
      "WARNING:tensorflow:From <ipython-input-42-dea9b3e196dd>:14: calling fit (from tensorflow.contrib.learn.python.learn.estimators.estimator) with y is deprecated and will be removed after 2016-12-01.\n",
      "Instructions for updating:\n",
      "Estimator is decoupled from Scikit Learn interface by moving into\n",
      "separate class SKCompat. Arguments x, y and batch_size are only\n",
      "available in the SKCompat class, Estimator will only accept input_fn.\n",
      "Example conversion:\n",
      "  est = Estimator(...) -> est = SKCompat(Estimator(...))\n",
      "WARNING:tensorflow:From <ipython-input-42-dea9b3e196dd>:14: calling fit (from tensorflow.contrib.learn.python.learn.estimators.estimator) with x is deprecated and will be removed after 2016-12-01.\n",
      "Instructions for updating:\n",
      "Estimator is decoupled from Scikit Learn interface by moving into\n",
      "separate class SKCompat. Arguments x, y and batch_size are only\n",
      "available in the SKCompat class, Estimator will only accept input_fn.\n",
      "Example conversion:\n",
      "  est = Estimator(...) -> est = SKCompat(Estimator(...))\n",
      "WARNING:tensorflow:From <ipython-input-42-dea9b3e196dd>:14: calling fit (from tensorflow.contrib.learn.python.learn.estimators.estimator) with batch_size is deprecated and will be removed after 2016-12-01.\n",
      "Instructions for updating:\n",
      "Estimator is decoupled from Scikit Learn interface by moving into\n",
      "separate class SKCompat. Arguments x, y and batch_size are only\n",
      "available in the SKCompat class, Estimator will only accept input_fn.\n",
      "Example conversion:\n",
      "  est = Estimator(...) -> est = SKCompat(Estimator(...))\n",
      "WARNING:tensorflow:float64 is not supported by many models, consider casting to float32.\n",
      "WARNING:tensorflow:float64 is not supported by many models, consider casting to float32.\n",
      "WARNING:tensorflow:From /Users/chelimin/miniconda2/lib/python2.7/site-packages/tensorflow/contrib/learn/python/learn/estimators/head.py:1362: scalar_summary (from tensorflow.python.ops.logging_ops) is deprecated and will be removed after 2016-11-30.\n",
      "Instructions for updating:\n",
      "Please switch to tf.summary.scalar. Note that tf.summary.scalar uses the node name instead of the tag. This means that TensorFlow will automatically de-duplicate summary names based on the scope they are created in. Also, passing a tensor or list of tags to a scalar summary op is no longer supported.\n",
      "INFO:tensorflow:Create CheckpointSaverHook.\n",
      "INFO:tensorflow:Saving checkpoints for 1 into /var/folders/7g/zyrh78dj0_n0_bfwvzhtymhr0000gn/T/tmp1cbAqK/model.ckpt.\n",
      "INFO:tensorflow:loss = 1.58351e+14, step = 1\n",
      "INFO:tensorflow:global_step/sec: 153.811\n",
      "INFO:tensorflow:loss = 5.37849e+12, step = 101\n",
      "INFO:tensorflow:global_step/sec: 155.336\n",
      "INFO:tensorflow:loss = 3.36739e+12, step = 201\n",
      "INFO:tensorflow:global_step/sec: 130.967\n",
      "INFO:tensorflow:loss = 3.97338e+12, step = 301\n",
      "INFO:tensorflow:global_step/sec: 147.095\n",
      "INFO:tensorflow:loss = 5.55173e+12, step = 401\n",
      "INFO:tensorflow:global_step/sec: 144.622\n",
      "INFO:tensorflow:loss = 4.80779e+12, step = 501\n",
      "INFO:tensorflow:global_step/sec: 144.335\n",
      "INFO:tensorflow:loss = 3.61124e+12, step = 601\n",
      "INFO:tensorflow:global_step/sec: 159.448\n",
      "INFO:tensorflow:loss = 7.77922e+12, step = 701\n",
      "INFO:tensorflow:global_step/sec: 147.127\n",
      "INFO:tensorflow:loss = 7.58009e+12, step = 801\n",
      "INFO:tensorflow:global_step/sec: 152.385\n",
      "INFO:tensorflow:loss = 4.39747e+12, step = 901\n",
      "INFO:tensorflow:global_step/sec: 135.861\n",
      "INFO:tensorflow:loss = 4.2773e+12, step = 1001\n",
      "INFO:tensorflow:global_step/sec: 159.937\n",
      "INFO:tensorflow:loss = 5.66657e+12, step = 1101\n",
      "INFO:tensorflow:global_step/sec: 159.41\n",
      "INFO:tensorflow:loss = 5.43891e+12, step = 1201\n",
      "INFO:tensorflow:global_step/sec: 151.437\n",
      "INFO:tensorflow:loss = 8.11542e+12, step = 1301\n",
      "INFO:tensorflow:global_step/sec: 153.424\n",
      "INFO:tensorflow:loss = 4.05716e+12, step = 1401\n",
      "INFO:tensorflow:global_step/sec: 154.601\n",
      "INFO:tensorflow:loss = 5.74656e+12, step = 1501\n",
      "INFO:tensorflow:global_step/sec: 153.833\n",
      "INFO:tensorflow:loss = 8.08061e+12, step = 1601\n",
      "INFO:tensorflow:global_step/sec: 149.604\n",
      "INFO:tensorflow:loss = 7.1268e+12, step = 1701\n",
      "INFO:tensorflow:global_step/sec: 139.112\n",
      "INFO:tensorflow:loss = 3.61917e+12, step = 1801\n",
      "INFO:tensorflow:global_step/sec: 151.926\n",
      "INFO:tensorflow:loss = 7.50961e+12, step = 1901\n",
      "INFO:tensorflow:global_step/sec: 158.52\n",
      "INFO:tensorflow:loss = 8.69518e+12, step = 2001\n",
      "INFO:tensorflow:global_step/sec: 155.854\n",
      "INFO:tensorflow:loss = 5.97284e+12, step = 2101\n",
      "INFO:tensorflow:global_step/sec: 156.812\n",
      "INFO:tensorflow:loss = 4.94138e+12, step = 2201\n",
      "INFO:tensorflow:global_step/sec: 141.156\n",
      "INFO:tensorflow:loss = 9.74399e+12, step = 2301\n",
      "INFO:tensorflow:global_step/sec: 111.812\n",
      "INFO:tensorflow:loss = 9.92201e+12, step = 2401\n",
      "INFO:tensorflow:global_step/sec: 140.419\n",
      "INFO:tensorflow:loss = 5.67929e+12, step = 2501\n",
      "INFO:tensorflow:global_step/sec: 145.861\n",
      "INFO:tensorflow:loss = 5.29498e+12, step = 2601\n",
      "INFO:tensorflow:global_step/sec: 151.545\n",
      "INFO:tensorflow:loss = 7.26236e+12, step = 2701\n",
      "INFO:tensorflow:global_step/sec: 157.994\n",
      "INFO:tensorflow:loss = 7.49694e+12, step = 2801\n",
      "INFO:tensorflow:global_step/sec: 144.534\n",
      "INFO:tensorflow:loss = 3.84612e+12, step = 2901\n",
      "INFO:tensorflow:global_step/sec: 156.422\n",
      "INFO:tensorflow:loss = 5.09248e+12, step = 3001\n",
      "INFO:tensorflow:global_step/sec: 141.985\n",
      "INFO:tensorflow:loss = 7.68544e+12, step = 3101\n",
      "INFO:tensorflow:global_step/sec: 119.738\n",
      "INFO:tensorflow:loss = 6.48624e+12, step = 3201\n",
      "INFO:tensorflow:global_step/sec: 137.477\n",
      "INFO:tensorflow:loss = 8.90375e+12, step = 3301\n",
      "INFO:tensorflow:global_step/sec: 144.92\n",
      "INFO:tensorflow:loss = 6.09948e+12, step = 3401\n",
      "INFO:tensorflow:global_step/sec: 133.752\n",
      "INFO:tensorflow:loss = 7.13899e+12, step = 3501\n",
      "INFO:tensorflow:global_step/sec: 156.099\n",
      "INFO:tensorflow:loss = 6.64745e+12, step = 3601\n",
      "INFO:tensorflow:global_step/sec: 158.389\n",
      "INFO:tensorflow:loss = 4.86131e+12, step = 3701\n",
      "INFO:tensorflow:global_step/sec: 151.141\n",
      "INFO:tensorflow:loss = 6.21548e+12, step = 3801\n",
      "INFO:tensorflow:global_step/sec: 148.733\n",
      "INFO:tensorflow:loss = 6.66134e+12, step = 3901\n",
      "INFO:tensorflow:global_step/sec: 153.211\n",
      "INFO:tensorflow:loss = 4.06249e+12, step = 4001\n",
      "INFO:tensorflow:global_step/sec: 155.659\n",
      "INFO:tensorflow:loss = 4.16485e+12, step = 4101\n",
      "INFO:tensorflow:global_step/sec: 156.452\n",
      "INFO:tensorflow:loss = 4.24985e+12, step = 4201\n",
      "INFO:tensorflow:global_step/sec: 152.077\n",
      "INFO:tensorflow:loss = 4.29649e+12, step = 4301\n",
      "INFO:tensorflow:global_step/sec: 154.618\n",
      "INFO:tensorflow:loss = 8.70415e+12, step = 4401\n",
      "INFO:tensorflow:global_step/sec: 147.806\n",
      "INFO:tensorflow:loss = 6.33405e+12, step = 4501\n",
      "INFO:tensorflow:global_step/sec: 146.034\n",
      "INFO:tensorflow:loss = 4.2324e+12, step = 4601\n",
      "INFO:tensorflow:global_step/sec: 147.082\n",
      "INFO:tensorflow:loss = 4.83159e+12, step = 4701\n",
      "INFO:tensorflow:global_step/sec: 144.118\n",
      "INFO:tensorflow:loss = 6.55419e+12, step = 4801\n",
      "INFO:tensorflow:global_step/sec: 150.788\n",
      "INFO:tensorflow:loss = 6.7048e+12, step = 4901\n",
      "INFO:tensorflow:global_step/sec: 153.667\n",
      "INFO:tensorflow:loss = 5.53747e+12, step = 5001\n",
      "INFO:tensorflow:global_step/sec: 156.357\n",
      "INFO:tensorflow:loss = 5.1661e+12, step = 5101\n",
      "INFO:tensorflow:global_step/sec: 149.411\n",
      "INFO:tensorflow:loss = 4.82212e+12, step = 5201\n",
      "INFO:tensorflow:global_step/sec: 140.987\n",
      "INFO:tensorflow:loss = 7.60126e+12, step = 5301\n",
      "INFO:tensorflow:global_step/sec: 144.138\n",
      "INFO:tensorflow:loss = 3.94195e+12, step = 5401\n",
      "INFO:tensorflow:global_step/sec: 132.82\n",
      "INFO:tensorflow:loss = 3.84389e+12, step = 5501\n",
      "INFO:tensorflow:global_step/sec: 153.646\n",
      "INFO:tensorflow:loss = 7.26689e+12, step = 5601\n",
      "INFO:tensorflow:global_step/sec: 116.147\n",
      "INFO:tensorflow:loss = 7.6745e+12, step = 5701\n",
      "INFO:tensorflow:global_step/sec: 154.415\n",
      "INFO:tensorflow:loss = 8.49219e+12, step = 5801\n",
      "INFO:tensorflow:global_step/sec: 157.51\n",
      "INFO:tensorflow:loss = 4.27006e+12, step = 5901\n",
      "INFO:tensorflow:global_step/sec: 150.515\n",
      "INFO:tensorflow:loss = 7.37874e+12, step = 6001\n",
      "INFO:tensorflow:global_step/sec: 143.318\n",
      "INFO:tensorflow:loss = 5.44131e+12, step = 6101\n",
      "INFO:tensorflow:global_step/sec: 149.215\n",
      "INFO:tensorflow:loss = 1.11898e+13, step = 6201\n",
      "INFO:tensorflow:global_step/sec: 156.107\n",
      "INFO:tensorflow:loss = 5.12606e+12, step = 6301\n",
      "INFO:tensorflow:global_step/sec: 133.729\n",
      "INFO:tensorflow:loss = 4.96715e+12, step = 6401\n",
      "INFO:tensorflow:global_step/sec: 134.362\n",
      "INFO:tensorflow:loss = 4.43579e+12, step = 6501\n",
      "INFO:tensorflow:global_step/sec: 121.378\n",
      "INFO:tensorflow:loss = 3.93933e+12, step = 6601\n",
      "INFO:tensorflow:global_step/sec: 147.995\n",
      "INFO:tensorflow:loss = 3.79341e+12, step = 6701\n",
      "INFO:tensorflow:global_step/sec: 140.921\n",
      "INFO:tensorflow:loss = 3.97772e+12, step = 6801\n",
      "INFO:tensorflow:global_step/sec: 131.051\n",
      "INFO:tensorflow:loss = 7.77849e+12, step = 6901\n",
      "INFO:tensorflow:global_step/sec: 155.061\n",
      "INFO:tensorflow:loss = 5.38831e+12, step = 7001\n",
      "INFO:tensorflow:global_step/sec: 152.645\n",
      "INFO:tensorflow:loss = 9.31397e+12, step = 7101\n",
      "INFO:tensorflow:global_step/sec: 154.883\n",
      "INFO:tensorflow:loss = 4.86892e+12, step = 7201\n",
      "INFO:tensorflow:global_step/sec: 156.246\n",
      "INFO:tensorflow:loss = 1.24269e+13, step = 7301\n",
      "INFO:tensorflow:global_step/sec: 158.664\n",
      "INFO:tensorflow:loss = 4.44762e+12, step = 7401\n",
      "INFO:tensorflow:global_step/sec: 143.345\n",
      "INFO:tensorflow:loss = 3.11791e+12, step = 7501\n",
      "INFO:tensorflow:global_step/sec: 157.112\n",
      "INFO:tensorflow:loss = 7.43321e+12, step = 7601\n",
      "INFO:tensorflow:global_step/sec: 152.884\n",
      "INFO:tensorflow:loss = 7.19097e+12, step = 7701\n",
      "INFO:tensorflow:global_step/sec: 155.956\n",
      "INFO:tensorflow:loss = 1.02733e+13, step = 7801\n",
      "INFO:tensorflow:global_step/sec: 153.942\n",
      "INFO:tensorflow:loss = 6.42878e+12, step = 7901\n",
      "INFO:tensorflow:Saving checkpoints for 8000 into /var/folders/7g/zyrh78dj0_n0_bfwvzhtymhr0000gn/T/tmp1cbAqK/model.ckpt.\n",
      "INFO:tensorflow:Loss for final step: 4.66099e+12.\n"
     ]
    },
    {
     "data": {
      "text/plain": [
       "DNNRegressor(params={'head': <tensorflow.contrib.learn.python.learn.estimators.head._RegressionHead object at 0x13b9bd450>, 'hidden_units': [20, 10], 'feature_columns': (_RealValuedColumn(column_name='', dimension=4, default_value=None, dtype=tf.float64, normalizer=None),), 'embedding_lr_multipliers': None, 'optimizer': <tensorflow.python.training.adam.AdamOptimizer object at 0x13bc56c90>, 'dropout': None, 'gradient_clip_norm': None, 'activation_fn': <function relu at 0x1147bd5f0>, 'input_layer_min_slice_size': None})"
      ]
     },
     "execution_count": 42,
     "metadata": {},
     "output_type": "execute_result"
    }
   ],
   "source": [
    "from tensorflow.contrib import learn\n",
    "\n",
    "# Stacking multiple regressors using DNN\n",
    "features_blend = learn.infer_real_valued_columns_from_input(stack[['gb','rf','nn','xgb']])\n",
    "\n",
    "# Optimizer algorithm\n",
    "adam = tf.train.AdamOptimizer(learning_rate=0.001)\n",
    "\n",
    "# Build multi-layer DNN for regression\n",
    "blend_nn = learn.DNNRegressor(feature_columns=features_blend, hidden_units=[20, 10], \n",
    "                              optimizer=adam, activation_fn=tf.nn.relu)\n",
    "#                               config=learn.estimators.RunConfig(num_cores=8))\n",
    "# Fit DNN\n",
    "blend_nn.fit(x=stack[['gb','rf','nn','xgb']], y=stack['true'], steps=8000, batch_size=256)"
   ]
  },
  {
   "cell_type": "code",
   "execution_count": 43,
   "metadata": {
    "collapsed": true
   },
   "outputs": [],
   "source": [
    "# Pedict price for new apartments (not seen before)\n",
    "x_new = x_train.iloc[-100:]  # example\n",
    "# Scale data\n",
    "x_new = scaler.transform(x_new)\n",
    "# True values (actual prices)\n",
    "true_values = y_train.iloc[-100:].values"
   ]
  },
  {
   "cell_type": "code",
   "execution_count": 44,
   "metadata": {
    "collapsed": false
   },
   "outputs": [
    {
     "data": {
      "text/plain": [
       "TheilSenRegressor(copy_X=True, fit_intercept=False, max_iter=300,\n",
       "         max_subpopulation=10000, n_jobs=-1, n_subsamples=None,\n",
       "         random_state=None, tol=0.001, verbose=False)"
      ]
     },
     "execution_count": 44,
     "metadata": {},
     "output_type": "execute_result"
    }
   ],
   "source": [
    "# Stacking & Ensembling multiple regressors\n",
    "stack_type = 'TheilSan'\n",
    "\n",
    "if stack_type == 'OLR':\n",
    "    # Ordinary least squares Linear Regression (OLR)\n",
    "    stacker = linear_model.LinearRegression(fit_intercept=False)\n",
    "elif stack_type == 'XGBoost':\n",
    "    # Linear least squares with L2 regularization (Ridge)\n",
    "    stacker = linear_model.Ridge(fit_intercept=False)\n",
    "elif stack_type == 'TheilSan':\n",
    "    # Theil-Sen Estimator: robust multivariate regression model\n",
    "    stacker = linear_model.TheilSenRegressor(fit_intercept=False, n_jobs=-1)\n",
    "\n",
    "# rf+gb+xgb+nn\n",
    "stacker.fit(X=stack[['rf', 'gb', 'xgb', 'nn']], y=stack['true'])"
   ]
  },
  {
   "cell_type": "code",
   "execution_count": 58,
   "metadata": {
    "collapsed": false
   },
   "outputs": [
    {
     "name": "stdout",
     "output_type": "stream",
     "text": [
      "WARNING:tensorflow:From /Users/chelimin/miniconda2/lib/python2.7/site-packages/tensorflow/contrib/learn/python/learn/estimators/dnn.py:692: calling predict (from tensorflow.contrib.learn.python.learn.estimators.estimator) with x is deprecated and will be removed after 2016-12-01.\n",
      "Instructions for updating:\n",
      "Estimator is decoupled from Scikit Learn interface by moving into\n",
      "separate class SKCompat. Arguments x, y and batch_size are only\n",
      "available in the SKCompat class, Estimator will only accept input_fn.\n",
      "Example conversion:\n",
      "  est = Estimator(...) -> est = SKCompat(Estimator(...))\n",
      "WARNING:tensorflow:float64 is not supported by many models, consider casting to float32.\n"
     ]
    }
   ],
   "source": [
    "# PREDICT: Ordinary least squares Linear Regression\n",
    "y_new_lr = list(clf_lr.predict(x_new))\n",
    "\n",
    "# PREDICT: RandomForestRegressor\n",
    "y_new_rf = list(forest.predict(x_new))\n",
    "\n",
    "# PREDICT: Gradient Boosting for regression\n",
    "y_new_gb = list(clf_gb.predict(x_new))\n",
    "\n",
    "# PREDICT: XGBoost\n",
    "dtest = xgb.DMatrix(x_new)\n",
    "y_new_xgb = list(clf_xgb.predict(dtest) )\n",
    "\n",
    "# PREDICT: TensorFlow DNNRegressor\n",
    "# y_new_nn = np.around(model_nn.predict(x_new), decimals=2)\n",
    "y_new_nn = list(model_nn.predict(x_new))"
   ]
  },
  {
   "cell_type": "code",
   "execution_count": 59,
   "metadata": {
    "collapsed": false
   },
   "outputs": [],
   "source": [
    "# Relative errors (%) for predictions \n",
    "\n",
    "lr_error = (1.-y_new_lr/true_values)*100.\n",
    "rf_error = (1.-y_new_rf/true_values)*100.\n",
    "gb_error = (1.-y_new_gb/true_values)*100.\n",
    "xgb_error = (1.-y_new_xgb/true_values)*100.\n",
    "nn_error = (1.-y_new_nn/true_values)*100. "
   ]
  },
  {
   "cell_type": "code",
   "execution_count": 60,
   "metadata": {
    "collapsed": false
   },
   "outputs": [],
   "source": [
    "predictions = pd.DataFrame(data={'True Values':y_train.iloc[-100:].values, \n",
    "                                 'OLR':y_new_lr, 'OLR Err':lr_error,   # OLR - Ordinary Linear Regression\n",
    "                                 'RFR':y_new_rf, 'RFR Err':rf_error,   # RFR - Random Forrest regressor\n",
    "                                 'GBR':y_new_gb, 'GBR Err':gb_error,   # GBR - Gradient Boost regresor\n",
    "                                 'XGB':y_new_xgb,'XGB Err':xgb_error,  # XGB - XGBoost\n",
    "                                 'DNN':y_new_nn, 'DNN Err':nn_error})  # DNN - Deep Neural Network\n",
    "\n"
   ]
  },
  {
   "cell_type": "code",
   "execution_count": 61,
   "metadata": {
    "collapsed": false
   },
   "outputs": [
    {
     "name": "stdout",
     "output_type": "stream",
     "text": [
      "OLR: RMSE = 0.762365\n",
      "RFR: RMSE = 0.776548\n",
      "GBR: RMSE = 0.78121\n",
      "XGB: RMSE = 0.799111\n"
     ]
    }
   ],
   "source": [
    "algos_predicted = predictions[['OLR', 'RFR', 'GBR', 'XGB']]\n",
    "for col in algos_predicted:\n",
    "    rms_log = metrics.mean_squared_error(np.log(predictions['True Values']), np.log(algos_predicted[col]))\n",
    "    print('{:s}: RMSE = {:g}'.format(col, np.sqrt(rms_log)))"
   ]
  },
  {
   "cell_type": "code",
   "execution_count": 62,
   "metadata": {
    "collapsed": false
   },
   "outputs": [
    {
     "name": "stdout",
     "output_type": "stream",
     "text": [
      "OLR: RMSE = 0.762365\n",
      "DNN: RMSE = 0.786273\n",
      "RFR: RMSE = 0.776548\n",
      "GBR: RMSE = 0.78121\n",
      "XGB: RMSE = 0.799111\n"
     ]
    }
   ],
   "source": [
    "#Stacking is using the output of the stacked models (RFR, GBR, XGB, DNN) as input\n",
    "\n",
    "# Root Mean Square Error (between the logarithm of predicted and true values)\n",
    "algos_predicted = predictions[['OLR', 'DNN', 'RFR', 'GBR', 'XGB']]\n",
    "for col in algos_predicted:\n",
    "    rms_log = metrics.mean_squared_error(np.log(predictions['True Values']), np.log(algos_predicted[col]))\n",
    "    print('{:s}: RMSE = {:g}'.format(col, np.sqrt(rms_log)))"
   ]
  },
  {
   "cell_type": "code",
   "execution_count": 63,
   "metadata": {
    "collapsed": true
   },
   "outputs": [],
   "source": [
    "# RF + Gradient Boosting + XGBoost + DNN\n",
    "new_stack = pd.DataFrame(data={'rf':y_new_rf, 'gb':y_new_gb, 'xgb':y_new_xgb, 'nn':y_new_nn, 'true':true_values})\n",
    "\n",
    "# PREDICT: Stacked regressors (Stack)\n",
    "y_new_st = stacker.predict(new_stack[['rf', 'gb', 'xgb', 'nn']])\n",
    "\n",
    "# Relative errors (%) for predictions\n",
    "st_error = (1.-y_new_st/true_values)*100."
   ]
  },
  {
   "cell_type": "code",
   "execution_count": 64,
   "metadata": {
    "collapsed": false
   },
   "outputs": [
    {
     "name": "stdout",
     "output_type": "stream",
     "text": [
      "WARNING:tensorflow:From /Users/chelimin/miniconda2/lib/python2.7/site-packages/tensorflow/contrib/learn/python/learn/estimators/dnn.py:692: calling predict (from tensorflow.contrib.learn.python.learn.estimators.estimator) with x is deprecated and will be removed after 2016-12-01.\n",
      "Instructions for updating:\n",
      "Estimator is decoupled from Scikit Learn interface by moving into\n",
      "separate class SKCompat. Arguments x, y and batch_size are only\n",
      "available in the SKCompat class, Estimator will only accept input_fn.\n",
      "Example conversion:\n",
      "  est = Estimator(...) -> est = SKCompat(Estimator(...))\n",
      "WARNING:tensorflow:float64 is not supported by many models, consider casting to float32.\n"
     ]
    }
   ],
   "source": [
    "# PREDICT: Stacked regressors using DNN (Ensamble)\n",
    "y_new_bl = list(blend_nn.predict(new_stack[['rf', 'gb', 'xgb', 'nn']]))\n",
    "bl_error = (1.-y_new_bl/true_values)*100."
   ]
  },
  {
   "cell_type": "code",
   "execution_count": 65,
   "metadata": {
    "collapsed": true
   },
   "outputs": [],
   "source": [
    "# Averageing best predictions from different regressors\n",
    "# RF + Gradient Boosting + XGBoost + DNN\n",
    "w = [1, 1, 1, 1]  # weights\n",
    "y_new_agg = np.c_[y_new_rf, y_new_gb, y_new_xgb,y_new_nn]\n",
    "y_new_avr = np.average(y_new_agg, axis=1, weights=w)\n",
    "avr_error = (1.-y_new_avr/true_values)*100."
   ]
  },
  {
   "cell_type": "code",
   "execution_count": 69,
   "metadata": {
    "collapsed": false
   },
   "outputs": [],
   "source": [
    "from collections import OrderedDict\n",
    "\n",
    "predictions = (('True Values',y_test.iloc[-100:].values), \n",
    "               ('Average',y_new_avr), ('Average Err',avr_error),\n",
    "               ('Stack',y_new_st), ('Stack Err',st_error),\n",
    "               ('Ensemble',y_new_bl), ('Ensemble Err',bl_error))\n",
    "preds_avr = pd.DataFrame(data=OrderedDict(predictions))"
   ]
  },
  {
   "cell_type": "code",
   "execution_count": 71,
   "metadata": {
    "collapsed": false
   },
   "outputs": [
    {
     "name": "stdout",
     "output_type": "stream",
     "text": [
      "  Average: RMSE = 0.810983\n",
      "    Stack: RMSE = 0.818542\n",
      " Ensemble: RMSE = 0.790231\n"
     ]
    }
   ],
   "source": [
    "# Root Mean Square Error (RMSE) between the logarithm of the  \n",
    "# predicted value and the logarithm of the observed sales price\n",
    "rms_log = metrics.mean_squared_error(np.log(preds_avr['True Values']), np.log(preds_avr['Average']))\n",
    "print('  Average: RMSE = {:g}'.format(np.sqrt(rms_log)))\n",
    "rms_log = metrics.mean_squared_error(np.log(preds_avr['True Values']), np.log(preds_avr['Stack']))\n",
    "print('    Stack: RMSE = {:g}'.format(np.sqrt(rms_log)))\n",
    "rms_log = metrics.mean_squared_error(np.log(preds_avr['True Values']), np.log(preds_avr['Ensemble']))\n",
    "print(' Ensemble: RMSE = {:g}'.format(np.sqrt(rms_log)))"
   ]
  },
  {
   "cell_type": "markdown",
   "metadata": {},
   "source": [
    "### Stacking 2  - not working! "
   ]
  },
  {
   "cell_type": "code",
   "execution_count": null,
   "metadata": {
    "collapsed": false
   },
   "outputs": [],
   "source": [
    "from random import randrange\n",
    "\n",
    "# Convert string column to float\n",
    "def str_column_to_float(dataset, column):\n",
    "\tfor row in dataset:\n",
    "\t\trow[column] = float(row[column].strip())\n",
    "\n",
    "# Convert string column to integer\n",
    "def str_column_to_int(dataset, column):\n",
    "\tclass_values = [row[column] for row in dataset]\n",
    "\tunique = set(class_values)\n",
    "\tlookup = dict()\n",
    "\tfor i, value in enumerate(unique):\n",
    "\t\tlookup[value] = i\n",
    "\tfor row in dataset:\n",
    "\t\trow[column] = lookup[row[column]]\n",
    "\treturn lookup\n",
    "\n",
    "# Split a dataset into k folds\n",
    "def cross_validation_split(dataset, n_folds):\n",
    "\tdataset_split = list()\n",
    "\tdataset_copy = list(dataset)\n",
    "\tfold_size = int(len(dataset) / n_folds)\n",
    "\tfor i in range(n_folds):\n",
    "\t\tfold = list()\n",
    "\t\twhile len(fold) < fold_size:\n",
    "\t\t\tindex = randrange(len(dataset_copy))\n",
    "\t\t\tfold.append(dataset_copy.pop(index))\n",
    "\t\tdataset_split.append(fold)\n",
    "\treturn dataset_split\n",
    "\n",
    "# Calculate accuracy percentage\n",
    "def accuracy_metric(actual, predicted):\n",
    "\tcorrect = 0\n",
    "\tfor i in range(len(actual)):\n",
    "\t\tif actual[i] == predicted[i]:\n",
    "\t\t\tcorrect += 1\n",
    "\treturn correct / float(len(actual)) * 100.0\n",
    "\n",
    "# Evaluate an algorithm using a cross validation split\n",
    "def evaluate_algorithm(dataset, algorithm, n_folds, *args):\n",
    "\tfolds = cross_validation_split(dataset, n_folds)\n",
    "\tscores = list()\n",
    "\tfor fold in folds:\n",
    "\t\ttrain_set = list(folds)\n",
    "\t\ttrain_set.remove(fold)\n",
    "\t\ttrain_set = sum(train_set, [])\n",
    "\t\ttest_set = list()\n",
    "\t\tfor row in fold:\n",
    "\t\t\trow_copy = list(row)\n",
    "\t\t\ttest_set.append(row_copy)\n",
    "\t\t\trow_copy[-1] = None\n",
    "\t\tpredicted = algorithm(train_set, test_set, *args)\n",
    "\t\tactual = [row[-1] for row in fold]\n",
    "\t\taccuracy = accuracy_metric(actual, predicted)\n",
    "\t\tscores.append(accuracy)\n",
    "\treturn scores\n",
    "\n",
    "# Make a prediction with coefficients\n",
    "def logistic_regression_predict(model, row):\n",
    "\tyhat = model[0]\n",
    "\tfor i in range(len(row)-1):\n",
    "\t\tyhat += model[i + 1] * row[i]\n",
    "\treturn 1.0 / (1.0 + exp(-yhat))\n",
    "\n",
    "# Estimate logistic regression coefficients using stochastic gradient descent\n",
    "def logistic_regression_model(train, l_rate=0.01, n_epoch=5000):\n",
    "\tcoef = [0.0 for i in range(len(train[0]))]\n",
    "\tfor epoch in range(n_epoch):\n",
    "\t\tfor row in train:\n",
    "\t\t\tyhat = logistic_regression_predict(coef, row)\n",
    "\t\t\terror = row[-1] - yhat\n",
    "\t\t\tcoef[0] = coef[0] + l_rate * error * yhat * (1.0 - yhat)\n",
    "\t\t\tfor i in range(len(row)-1):\n",
    "\t\t\t\tcoef[i + 1] = coef[i + 1] + l_rate * error * yhat * (1.0 - yhat) * row[i]\n",
    "\treturn coef\n",
    "\n",
    "# Make predictions with sub-models and construct a new stacked row\n",
    "def to_stacked_row(models, predict_list, row):\n",
    "\tstacked_row = list()\n",
    "\tfor i in range(len(models)):\n",
    "\t\tprediction = predict_list[i](models[i], row)\n",
    "\t\tstacked_row.append(prediction)\n",
    "\tstacked_row.append(row[-1])\n",
    "\treturn row[0:len(row)-1] + stacked_row\n",
    "\n",
    "# Stacked Generalization Algorithm\n",
    "def stacking(train, test):\n",
    "\tmodel_list = [forest, clf_gb]\n",
    "\tpredict_list = [y_rf, y_gb]\n",
    "\tmodels = list()\n",
    "\tfor i in range(len(model_list)):\n",
    "\t\tmodel = model_list[i](train)\n",
    "\t\tmodels.append(model)\n",
    "\tstacked_dataset = list()\n",
    "\tfor row in train:\n",
    "\t\tstacked_row = to_stacked_row(models, predict_list, row)\n",
    "\t\tstacked_dataset.append(stacked_row)\n",
    "\tstacked_model = logistic_regression_model(stacked_dataset)\n",
    "\tpredictions = list()\n",
    "\tfor row in test:\n",
    "\t\tstacked_row = to_stacked_row(models, predict_list, row)\n",
    "\t\tstacked_dataset.append(stacked_row)\n",
    "\t\tprediction = logistic_regression_predict(stacked_model, stacked_row)\n",
    "\t\tprediction = round(prediction)\n",
    "\t\tpredictions.append(prediction)\n",
    "\treturn predictions\n",
    "\n",
    "# convert string attributes to integers\n",
    "# for i in range(len(dataset[0])-1):\n",
    "# \tstr_column_to_float(dataset, i)\n",
    "    \n",
    "# convert class column to integers\n",
    "# str_column_to_int(dataset, len(dataset[0])-1)\n",
    "\n",
    "# load and prepare data\n",
    "dataset = train_data\n",
    "n_folds = 3\n",
    "scores = evaluate_algorithm(dataset, stacking, n_folds)\n",
    "\n",
    "print('Scores: %s' % scores)\n",
    "print('Mean Accuracy: %.3f%%' % (sum(scores)/float(len(scores))))"
   ]
  },
  {
   "cell_type": "code",
   "execution_count": null,
   "metadata": {
    "collapsed": true
   },
   "outputs": [],
   "source": []
  }
 ],
 "metadata": {
  "kernelspec": {
   "display_name": "Python 2",
   "language": "python",
   "name": "python2"
  },
  "language_info": {
   "codemirror_mode": {
    "name": "ipython",
    "version": 2
   },
   "file_extension": ".py",
   "mimetype": "text/x-python",
   "name": "python",
   "nbconvert_exporter": "python",
   "pygments_lexer": "ipython2",
   "version": "2.7.13"
  }
 },
 "nbformat": 4,
 "nbformat_minor": 1
}
